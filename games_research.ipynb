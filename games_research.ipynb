{
 "cells": [
  {
   "cell_type": "markdown",
   "metadata": {},
   "source": [
    "# Исследование рынка игр"
   ]
  },
  {
   "cell_type": "markdown",
   "metadata": {},
   "source": [
    "Для исследования взяты исторические данные о продажах игр, оценки пользователей и экспертов, жанры и платформы. \n",
    "\n",
    "Цель исследования - анализ рынка игр и выявление закономерностей, которые позволят определить успешность игры. Данные будут использованы для рекламной кампании на следующий год.\n",
    "\n",
    "Исследование будет состоять из нескольких этапов:\n",
    "- предобработка данных (заполнение пропусков и выявление аномалий)\n",
    "- проведение исследовательского анализа данных\n",
    "- составление портрета пользователя каждого региона \n",
    "- проверка гипотез \n",
    "- вывод\n",
    "\n",
    "Описание данных\n",
    "- Name — название игры\n",
    "- Platform — платформа\n",
    "- Year_of_Release — год выпуска\n",
    "- Genre — жанр игры\n",
    "- NA_sales — продажи в Северной Америке (миллионы проданных копий)\n",
    "- EU_sales — продажи в Европе (миллионы проданных копий)\n",
    "- JP_sales — продажи в Японии (миллионы проданных копий)\n",
    "- Other_sales — продажи в других странах (миллионы проданных копий)\n",
    "- Critic_Score — оценка критиков (максимум 100)\n",
    "- User_Score — оценка пользователей (максимум 10)\n",
    "- Rating — рейтинг от организации ESRB (англ. Entertainment Software Rating Board). Эта ассоциация определяет рейтинг компьютерных игр и присваивает им подходящую возрастную категорию."
   ]
  },
  {
   "cell_type": "markdown",
   "metadata": {},
   "source": [
    "### Откроем файл с данными и изучим общую информацию. "
   ]
  },
  {
   "cell_type": "code",
   "execution_count": 1,
   "metadata": {},
   "outputs": [],
   "source": [
    "# импортируем библиотеки, которые могут нам понадобится\n",
    "import pandas as pd\n",
    "import matplotlib.pyplot as plt\n",
    "import numpy as np\n",
    "import seaborn as sns\n",
    "from scipy import stats as st"
   ]
  },
  {
   "cell_type": "code",
   "execution_count": 2,
   "metadata": {},
   "outputs": [
    {
     "data": {
      "text/html": [
       "<div>\n",
       "<style scoped>\n",
       "    .dataframe tbody tr th:only-of-type {\n",
       "        vertical-align: middle;\n",
       "    }\n",
       "\n",
       "    .dataframe tbody tr th {\n",
       "        vertical-align: top;\n",
       "    }\n",
       "\n",
       "    .dataframe thead th {\n",
       "        text-align: right;\n",
       "    }\n",
       "</style>\n",
       "<table border=\"1\" class=\"dataframe\">\n",
       "  <thead>\n",
       "    <tr style=\"text-align: right;\">\n",
       "      <th></th>\n",
       "      <th>Name</th>\n",
       "      <th>Platform</th>\n",
       "      <th>Year_of_Release</th>\n",
       "      <th>Genre</th>\n",
       "      <th>NA_sales</th>\n",
       "      <th>EU_sales</th>\n",
       "      <th>JP_sales</th>\n",
       "      <th>Other_sales</th>\n",
       "      <th>Critic_Score</th>\n",
       "      <th>User_Score</th>\n",
       "      <th>Rating</th>\n",
       "    </tr>\n",
       "  </thead>\n",
       "  <tbody>\n",
       "    <tr>\n",
       "      <th>0</th>\n",
       "      <td>Wii Sports</td>\n",
       "      <td>Wii</td>\n",
       "      <td>2006.0</td>\n",
       "      <td>Sports</td>\n",
       "      <td>41.36</td>\n",
       "      <td>28.96</td>\n",
       "      <td>3.77</td>\n",
       "      <td>8.45</td>\n",
       "      <td>76.0</td>\n",
       "      <td>8</td>\n",
       "      <td>E</td>\n",
       "    </tr>\n",
       "    <tr>\n",
       "      <th>1</th>\n",
       "      <td>Super Mario Bros.</td>\n",
       "      <td>NES</td>\n",
       "      <td>1985.0</td>\n",
       "      <td>Platform</td>\n",
       "      <td>29.08</td>\n",
       "      <td>3.58</td>\n",
       "      <td>6.81</td>\n",
       "      <td>0.77</td>\n",
       "      <td>NaN</td>\n",
       "      <td>NaN</td>\n",
       "      <td>NaN</td>\n",
       "    </tr>\n",
       "    <tr>\n",
       "      <th>2</th>\n",
       "      <td>Mario Kart Wii</td>\n",
       "      <td>Wii</td>\n",
       "      <td>2008.0</td>\n",
       "      <td>Racing</td>\n",
       "      <td>15.68</td>\n",
       "      <td>12.76</td>\n",
       "      <td>3.79</td>\n",
       "      <td>3.29</td>\n",
       "      <td>82.0</td>\n",
       "      <td>8.3</td>\n",
       "      <td>E</td>\n",
       "    </tr>\n",
       "    <tr>\n",
       "      <th>3</th>\n",
       "      <td>Wii Sports Resort</td>\n",
       "      <td>Wii</td>\n",
       "      <td>2009.0</td>\n",
       "      <td>Sports</td>\n",
       "      <td>15.61</td>\n",
       "      <td>10.93</td>\n",
       "      <td>3.28</td>\n",
       "      <td>2.95</td>\n",
       "      <td>80.0</td>\n",
       "      <td>8</td>\n",
       "      <td>E</td>\n",
       "    </tr>\n",
       "    <tr>\n",
       "      <th>4</th>\n",
       "      <td>Pokemon Red/Pokemon Blue</td>\n",
       "      <td>GB</td>\n",
       "      <td>1996.0</td>\n",
       "      <td>Role-Playing</td>\n",
       "      <td>11.27</td>\n",
       "      <td>8.89</td>\n",
       "      <td>10.22</td>\n",
       "      <td>1.00</td>\n",
       "      <td>NaN</td>\n",
       "      <td>NaN</td>\n",
       "      <td>NaN</td>\n",
       "    </tr>\n",
       "  </tbody>\n",
       "</table>\n",
       "</div>"
      ],
      "text/plain": [
       "                       Name Platform  Year_of_Release         Genre  NA_sales  \\\n",
       "0                Wii Sports      Wii           2006.0        Sports     41.36   \n",
       "1         Super Mario Bros.      NES           1985.0      Platform     29.08   \n",
       "2            Mario Kart Wii      Wii           2008.0        Racing     15.68   \n",
       "3         Wii Sports Resort      Wii           2009.0        Sports     15.61   \n",
       "4  Pokemon Red/Pokemon Blue       GB           1996.0  Role-Playing     11.27   \n",
       "\n",
       "   EU_sales  JP_sales  Other_sales  Critic_Score User_Score Rating  \n",
       "0     28.96      3.77         8.45          76.0          8      E  \n",
       "1      3.58      6.81         0.77           NaN        NaN    NaN  \n",
       "2     12.76      3.79         3.29          82.0        8.3      E  \n",
       "3     10.93      3.28         2.95          80.0          8      E  \n",
       "4      8.89     10.22         1.00           NaN        NaN    NaN  "
      ]
     },
     "execution_count": 2,
     "metadata": {},
     "output_type": "execute_result"
    }
   ],
   "source": [
    "# прочитаем csv-файл\n",
    "data = pd.read_csv('/datasets/games.csv')\n",
    "\n",
    "# выведем первые строки для изучения данных\n",
    "data.head()"
   ]
  },
  {
   "cell_type": "code",
   "execution_count": 3,
   "metadata": {},
   "outputs": [
    {
     "name": "stdout",
     "output_type": "stream",
     "text": [
      "<class 'pandas.core.frame.DataFrame'>\n",
      "RangeIndex: 16715 entries, 0 to 16714\n",
      "Data columns (total 11 columns):\n",
      " #   Column           Non-Null Count  Dtype  \n",
      "---  ------           --------------  -----  \n",
      " 0   Name             16713 non-null  object \n",
      " 1   Platform         16715 non-null  object \n",
      " 2   Year_of_Release  16446 non-null  float64\n",
      " 3   Genre            16713 non-null  object \n",
      " 4   NA_sales         16715 non-null  float64\n",
      " 5   EU_sales         16715 non-null  float64\n",
      " 6   JP_sales         16715 non-null  float64\n",
      " 7   Other_sales      16715 non-null  float64\n",
      " 8   Critic_Score     8137 non-null   float64\n",
      " 9   User_Score       10014 non-null  object \n",
      " 10  Rating           9949 non-null   object \n",
      "dtypes: float64(6), object(5)\n",
      "memory usage: 1.4+ MB\n"
     ]
    }
   ],
   "source": [
    "#изучим информацию о датафрейме\n",
    "data.info()"
   ]
  },
  {
   "cell_type": "code",
   "execution_count": 4,
   "metadata": {},
   "outputs": [
    {
     "data": {
      "text/plain": [
       "0"
      ]
     },
     "execution_count": 4,
     "metadata": {},
     "output_type": "execute_result"
    }
   ],
   "source": [
    "# проверим есть ли явные дубликаты объявлений\n",
    "data.duplicated().sum()"
   ]
  },
  {
   "cell_type": "markdown",
   "metadata": {},
   "source": [
    "**Вывод**\n",
    "\n",
    "Теперь у нас есть первоначальное представление о датафрейме и вся информация о типе данных:\n",
    "\n",
    "- Year_of_Release необходимо сделать числовым типом\n",
    "- User_Score - необходимо привести к числовому\n",
    "- название столбцов необходимо привести к нижнему регистру для удобства\n",
    "- необходимо избавиться от пропусков или заменить их на другие значения\n"
   ]
  },
  {
   "cell_type": "markdown",
   "metadata": {},
   "source": [
    "### Предобработка данных"
   ]
  },
  {
   "cell_type": "markdown",
   "metadata": {},
   "source": [
    "#### Изменение регистра\n"
   ]
  },
  {
   "cell_type": "code",
   "execution_count": 5,
   "metadata": {},
   "outputs": [
    {
     "data": {
      "text/html": [
       "<div>\n",
       "<style scoped>\n",
       "    .dataframe tbody tr th:only-of-type {\n",
       "        vertical-align: middle;\n",
       "    }\n",
       "\n",
       "    .dataframe tbody tr th {\n",
       "        vertical-align: top;\n",
       "    }\n",
       "\n",
       "    .dataframe thead th {\n",
       "        text-align: right;\n",
       "    }\n",
       "</style>\n",
       "<table border=\"1\" class=\"dataframe\">\n",
       "  <thead>\n",
       "    <tr style=\"text-align: right;\">\n",
       "      <th></th>\n",
       "      <th>name</th>\n",
       "      <th>platform</th>\n",
       "      <th>year_of_release</th>\n",
       "      <th>genre</th>\n",
       "      <th>na_sales</th>\n",
       "      <th>eu_sales</th>\n",
       "      <th>jp_sales</th>\n",
       "      <th>other_sales</th>\n",
       "      <th>critic_score</th>\n",
       "      <th>user_score</th>\n",
       "      <th>rating</th>\n",
       "    </tr>\n",
       "  </thead>\n",
       "  <tbody>\n",
       "    <tr>\n",
       "      <th>0</th>\n",
       "      <td>Wii Sports</td>\n",
       "      <td>Wii</td>\n",
       "      <td>2006.0</td>\n",
       "      <td>Sports</td>\n",
       "      <td>41.36</td>\n",
       "      <td>28.96</td>\n",
       "      <td>3.77</td>\n",
       "      <td>8.45</td>\n",
       "      <td>76.0</td>\n",
       "      <td>8</td>\n",
       "      <td>E</td>\n",
       "    </tr>\n",
       "    <tr>\n",
       "      <th>1</th>\n",
       "      <td>Super Mario Bros.</td>\n",
       "      <td>NES</td>\n",
       "      <td>1985.0</td>\n",
       "      <td>Platform</td>\n",
       "      <td>29.08</td>\n",
       "      <td>3.58</td>\n",
       "      <td>6.81</td>\n",
       "      <td>0.77</td>\n",
       "      <td>NaN</td>\n",
       "      <td>NaN</td>\n",
       "      <td>NaN</td>\n",
       "    </tr>\n",
       "    <tr>\n",
       "      <th>2</th>\n",
       "      <td>Mario Kart Wii</td>\n",
       "      <td>Wii</td>\n",
       "      <td>2008.0</td>\n",
       "      <td>Racing</td>\n",
       "      <td>15.68</td>\n",
       "      <td>12.76</td>\n",
       "      <td>3.79</td>\n",
       "      <td>3.29</td>\n",
       "      <td>82.0</td>\n",
       "      <td>8.3</td>\n",
       "      <td>E</td>\n",
       "    </tr>\n",
       "    <tr>\n",
       "      <th>3</th>\n",
       "      <td>Wii Sports Resort</td>\n",
       "      <td>Wii</td>\n",
       "      <td>2009.0</td>\n",
       "      <td>Sports</td>\n",
       "      <td>15.61</td>\n",
       "      <td>10.93</td>\n",
       "      <td>3.28</td>\n",
       "      <td>2.95</td>\n",
       "      <td>80.0</td>\n",
       "      <td>8</td>\n",
       "      <td>E</td>\n",
       "    </tr>\n",
       "    <tr>\n",
       "      <th>4</th>\n",
       "      <td>Pokemon Red/Pokemon Blue</td>\n",
       "      <td>GB</td>\n",
       "      <td>1996.0</td>\n",
       "      <td>Role-Playing</td>\n",
       "      <td>11.27</td>\n",
       "      <td>8.89</td>\n",
       "      <td>10.22</td>\n",
       "      <td>1.00</td>\n",
       "      <td>NaN</td>\n",
       "      <td>NaN</td>\n",
       "      <td>NaN</td>\n",
       "    </tr>\n",
       "  </tbody>\n",
       "</table>\n",
       "</div>"
      ],
      "text/plain": [
       "                       name platform  year_of_release         genre  na_sales  \\\n",
       "0                Wii Sports      Wii           2006.0        Sports     41.36   \n",
       "1         Super Mario Bros.      NES           1985.0      Platform     29.08   \n",
       "2            Mario Kart Wii      Wii           2008.0        Racing     15.68   \n",
       "3         Wii Sports Resort      Wii           2009.0        Sports     15.61   \n",
       "4  Pokemon Red/Pokemon Blue       GB           1996.0  Role-Playing     11.27   \n",
       "\n",
       "   eu_sales  jp_sales  other_sales  critic_score user_score rating  \n",
       "0     28.96      3.77         8.45          76.0          8      E  \n",
       "1      3.58      6.81         0.77           NaN        NaN    NaN  \n",
       "2     12.76      3.79         3.29          82.0        8.3      E  \n",
       "3     10.93      3.28         2.95          80.0          8      E  \n",
       "4      8.89     10.22         1.00           NaN        NaN    NaN  "
      ]
     },
     "execution_count": 5,
     "metadata": {},
     "output_type": "execute_result"
    }
   ],
   "source": [
    "#преобразуем названия стобцов в нижний регистр\n",
    "data.columns = data.columns.str.lower()\n",
    "data.head()"
   ]
  },
  {
   "cell_type": "markdown",
   "metadata": {},
   "source": [
    "#### Заполнение пропусков"
   ]
  },
  {
   "cell_type": "markdown",
   "metadata": {},
   "source": [
    "Изучим данные о пропусках."
   ]
  },
  {
   "cell_type": "code",
   "execution_count": 6,
   "metadata": {},
   "outputs": [
    {
     "data": {
      "text/plain": [
       "name                  2\n",
       "platform              0\n",
       "year_of_release     269\n",
       "genre                 2\n",
       "na_sales              0\n",
       "eu_sales              0\n",
       "jp_sales              0\n",
       "other_sales           0\n",
       "critic_score       8578\n",
       "user_score         6701\n",
       "rating             6766\n",
       "dtype: int64"
      ]
     },
     "execution_count": 6,
     "metadata": {},
     "output_type": "execute_result"
    }
   ],
   "source": [
    "data.isna().sum()"
   ]
  },
  {
   "cell_type": "markdown",
   "metadata": {},
   "source": [
    "Как мы видим, есть по два пропуска в name и genre. Лучшим решением будет их удалить, так как это ни на что не повлияет. Также поступим и с year_of_release. Остальные пропуски оставим как есть, так как сбда не подойдут ни медиана, ни среднее, ни 0. А вот в столбце rating вместо пропусков можно поставить 0, так как там указаны значения в строком формате."
   ]
  },
  {
   "cell_type": "code",
   "execution_count": 7,
   "metadata": {},
   "outputs": [
    {
     "data": {
      "text/plain": [
       "name                  0\n",
       "platform              0\n",
       "year_of_release       0\n",
       "genre                 0\n",
       "na_sales              0\n",
       "eu_sales              0\n",
       "jp_sales              0\n",
       "other_sales           0\n",
       "critic_score       8461\n",
       "user_score         6605\n",
       "rating                0\n",
       "dtype: int64"
      ]
     },
     "execution_count": 7,
     "metadata": {},
     "output_type": "execute_result"
    }
   ],
   "source": [
    "#удаляем пропуски \n",
    "data = data.dropna(subset=['name', 'genre', 'year_of_release'])\n",
    "data['rating'] = data['rating'].fillna(value='0')\n",
    "\n",
    "data.isna().sum()\n"
   ]
  },
  {
   "cell_type": "code",
   "execution_count": 8,
   "metadata": {},
   "outputs": [],
   "source": [
    "#сбросим индексы\n",
    "data = data.reset_index(drop = True)"
   ]
  },
  {
   "cell_type": "markdown",
   "metadata": {},
   "source": [
    "#### Изменение типа данных\n"
   ]
  },
  {
   "cell_type": "markdown",
   "metadata": {},
   "source": [
    "Меняем тип данных в year_of_release на числовой, так как это год.\n",
    "А также необхимо поменять тип данных в user_score и critic_score на вещественный, так как это рейтинг и он не может быть объектом."
   ]
  },
  {
   "cell_type": "code",
   "execution_count": 9,
   "metadata": {},
   "outputs": [
    {
     "data": {
      "text/plain": [
       "array(['8', nan, '8.3', '8.5', '6.6', '8.4', '8.6', '7.7', '6.3', '7.4',\n",
       "       '8.2', '9', '7.9', '8.1', '8.7', '7.1', '3.4', '5.3', '4.8', '3.2',\n",
       "       '8.9', '6.4', '7.8', '7.5', '2.6', '7.2', '9.2', '7', '7.3', '4.3',\n",
       "       '7.6', '5.7', '5', '9.1', '6.5', 'tbd', '8.8', '6.9', '9.4', '6.8',\n",
       "       '6.1', '6.7', '5.4', '4', '4.9', '4.5', '9.3', '6.2', '4.2', '6',\n",
       "       '3.7', '4.1', '5.8', '5.6', '5.5', '4.4', '4.6', '5.9', '3.9',\n",
       "       '3.1', '2.9', '5.2', '3.3', '4.7', '5.1', '3.5', '2.5', '1.9', '3',\n",
       "       '2.7', '2.2', '2', '9.5', '2.1', '3.6', '2.8', '1.8', '3.8', '0',\n",
       "       '1.6', '9.6', '2.4', '1.7', '1.1', '0.3', '1.5', '0.7', '1.2',\n",
       "       '2.3', '0.5', '1.3', '0.2', '0.6', '1.4', '0.9', '1', '9.7'],\n",
       "      dtype=object)"
      ]
     },
     "execution_count": 9,
     "metadata": {},
     "output_type": "execute_result"
    }
   ],
   "source": [
    "#предвартельно посмотрим на данные в строке user_score\n",
    "data['user_score'].unique()"
   ]
  },
  {
   "cell_type": "markdown",
   "metadata": {},
   "source": [
    "Кроме цифр, в таблице есть еще 'tbd'. Посмотрим сколько таких строк."
   ]
  },
  {
   "cell_type": "code",
   "execution_count": 10,
   "metadata": {},
   "outputs": [
    {
     "data": {
      "text/plain": [
       "tbd    2376\n",
       "7.8     322\n",
       "8       285\n",
       "8.2     276\n",
       "8.3     252\n",
       "       ... \n",
       "1.1       2\n",
       "0.2       2\n",
       "1.3       2\n",
       "0         1\n",
       "9.7       1\n",
       "Name: user_score, Length: 96, dtype: int64"
      ]
     },
     "execution_count": 10,
     "metadata": {},
     "output_type": "execute_result"
    }
   ],
   "source": [
    "#посмотрим сколько всего наименований мы имеем с дублями\n",
    "data['user_score'].value_counts()"
   ]
  },
  {
   "cell_type": "markdown",
   "metadata": {},
   "source": [
    "2376 строк - это много для удаления. Так как 'tbd' означает To Be Determined - \"Будет определено\", а значит этой игры еще нет или нет рейтинга и она не подходит для анализа, так как нет данных. Но это большое количество строк для удаления, поэтому я заменю его на пропуски."
   ]
  },
  {
   "cell_type": "code",
   "execution_count": 11,
   "metadata": {},
   "outputs": [],
   "source": [
    "data['user_score'] = data['user_score'].replace('tbd', np.nan, regex=True)"
   ]
  },
  {
   "cell_type": "code",
   "execution_count": 12,
   "metadata": {},
   "outputs": [
    {
     "name": "stdout",
     "output_type": "stream",
     "text": [
      "<class 'pandas.core.frame.DataFrame'>\n",
      "RangeIndex: 16444 entries, 0 to 16443\n",
      "Data columns (total 11 columns):\n",
      " #   Column           Non-Null Count  Dtype  \n",
      "---  ------           --------------  -----  \n",
      " 0   name             16444 non-null  object \n",
      " 1   platform         16444 non-null  object \n",
      " 2   year_of_release  16444 non-null  int64  \n",
      " 3   genre            16444 non-null  object \n",
      " 4   na_sales         16444 non-null  float64\n",
      " 5   eu_sales         16444 non-null  float64\n",
      " 6   jp_sales         16444 non-null  float64\n",
      " 7   other_sales      16444 non-null  float64\n",
      " 8   critic_score     7983 non-null   float64\n",
      " 9   user_score       7463 non-null   float64\n",
      " 10  rating           16444 non-null  object \n",
      "dtypes: float64(6), int64(1), object(4)\n",
      "memory usage: 1.4+ MB\n"
     ]
    }
   ],
   "source": [
    "#изменим цену на тип int и float\n",
    "data['year_of_release'] = data['year_of_release'].astype('int')\n",
    "data['user_score'] = data['user_score'].astype('float')\n",
    "data['critic_score'] = data['critic_score'].astype('float')\n",
    "data.info()"
   ]
  },
  {
   "cell_type": "markdown",
   "metadata": {},
   "source": [
    "#### Расчет суммарных продаж во всех регионах"
   ]
  },
  {
   "cell_type": "code",
   "execution_count": 13,
   "metadata": {
    "scrolled": true
   },
   "outputs": [
    {
     "data": {
      "text/html": [
       "<div>\n",
       "<style scoped>\n",
       "    .dataframe tbody tr th:only-of-type {\n",
       "        vertical-align: middle;\n",
       "    }\n",
       "\n",
       "    .dataframe tbody tr th {\n",
       "        vertical-align: top;\n",
       "    }\n",
       "\n",
       "    .dataframe thead th {\n",
       "        text-align: right;\n",
       "    }\n",
       "</style>\n",
       "<table border=\"1\" class=\"dataframe\">\n",
       "  <thead>\n",
       "    <tr style=\"text-align: right;\">\n",
       "      <th></th>\n",
       "      <th>name</th>\n",
       "      <th>platform</th>\n",
       "      <th>year_of_release</th>\n",
       "      <th>genre</th>\n",
       "      <th>na_sales</th>\n",
       "      <th>eu_sales</th>\n",
       "      <th>jp_sales</th>\n",
       "      <th>other_sales</th>\n",
       "      <th>critic_score</th>\n",
       "      <th>user_score</th>\n",
       "      <th>rating</th>\n",
       "      <th>total_sales</th>\n",
       "    </tr>\n",
       "  </thead>\n",
       "  <tbody>\n",
       "    <tr>\n",
       "      <th>0</th>\n",
       "      <td>Wii Sports</td>\n",
       "      <td>Wii</td>\n",
       "      <td>2006</td>\n",
       "      <td>Sports</td>\n",
       "      <td>41.36</td>\n",
       "      <td>28.96</td>\n",
       "      <td>3.77</td>\n",
       "      <td>8.45</td>\n",
       "      <td>76.0</td>\n",
       "      <td>8.0</td>\n",
       "      <td>E</td>\n",
       "      <td>82.54</td>\n",
       "    </tr>\n",
       "    <tr>\n",
       "      <th>1</th>\n",
       "      <td>Super Mario Bros.</td>\n",
       "      <td>NES</td>\n",
       "      <td>1985</td>\n",
       "      <td>Platform</td>\n",
       "      <td>29.08</td>\n",
       "      <td>3.58</td>\n",
       "      <td>6.81</td>\n",
       "      <td>0.77</td>\n",
       "      <td>NaN</td>\n",
       "      <td>NaN</td>\n",
       "      <td>0</td>\n",
       "      <td>40.24</td>\n",
       "    </tr>\n",
       "    <tr>\n",
       "      <th>2</th>\n",
       "      <td>Mario Kart Wii</td>\n",
       "      <td>Wii</td>\n",
       "      <td>2008</td>\n",
       "      <td>Racing</td>\n",
       "      <td>15.68</td>\n",
       "      <td>12.76</td>\n",
       "      <td>3.79</td>\n",
       "      <td>3.29</td>\n",
       "      <td>82.0</td>\n",
       "      <td>8.3</td>\n",
       "      <td>E</td>\n",
       "      <td>35.52</td>\n",
       "    </tr>\n",
       "    <tr>\n",
       "      <th>3</th>\n",
       "      <td>Wii Sports Resort</td>\n",
       "      <td>Wii</td>\n",
       "      <td>2009</td>\n",
       "      <td>Sports</td>\n",
       "      <td>15.61</td>\n",
       "      <td>10.93</td>\n",
       "      <td>3.28</td>\n",
       "      <td>2.95</td>\n",
       "      <td>80.0</td>\n",
       "      <td>8.0</td>\n",
       "      <td>E</td>\n",
       "      <td>32.77</td>\n",
       "    </tr>\n",
       "    <tr>\n",
       "      <th>4</th>\n",
       "      <td>Pokemon Red/Pokemon Blue</td>\n",
       "      <td>GB</td>\n",
       "      <td>1996</td>\n",
       "      <td>Role-Playing</td>\n",
       "      <td>11.27</td>\n",
       "      <td>8.89</td>\n",
       "      <td>10.22</td>\n",
       "      <td>1.00</td>\n",
       "      <td>NaN</td>\n",
       "      <td>NaN</td>\n",
       "      <td>0</td>\n",
       "      <td>31.38</td>\n",
       "    </tr>\n",
       "  </tbody>\n",
       "</table>\n",
       "</div>"
      ],
      "text/plain": [
       "                       name platform  year_of_release         genre  na_sales  \\\n",
       "0                Wii Sports      Wii             2006        Sports     41.36   \n",
       "1         Super Mario Bros.      NES             1985      Platform     29.08   \n",
       "2            Mario Kart Wii      Wii             2008        Racing     15.68   \n",
       "3         Wii Sports Resort      Wii             2009        Sports     15.61   \n",
       "4  Pokemon Red/Pokemon Blue       GB             1996  Role-Playing     11.27   \n",
       "\n",
       "   eu_sales  jp_sales  other_sales  critic_score  user_score rating  \\\n",
       "0     28.96      3.77         8.45          76.0         8.0      E   \n",
       "1      3.58      6.81         0.77           NaN         NaN      0   \n",
       "2     12.76      3.79         3.29          82.0         8.3      E   \n",
       "3     10.93      3.28         2.95          80.0         8.0      E   \n",
       "4      8.89     10.22         1.00           NaN         NaN      0   \n",
       "\n",
       "   total_sales  \n",
       "0        82.54  \n",
       "1        40.24  \n",
       "2        35.52  \n",
       "3        32.77  \n",
       "4        31.38  "
      ]
     },
     "execution_count": 13,
     "metadata": {},
     "output_type": "execute_result"
    }
   ],
   "source": [
    "data['total_sales'] = data['na_sales'] + data['eu_sales'] + data['jp_sales'] + data['other_sales']\n",
    "data.head()"
   ]
  },
  {
   "cell_type": "markdown",
   "metadata": {},
   "source": [
    "**Вывод**\n",
    "\n",
    "В предобработке данных я привела названия столбцов к нижнему регистру, заполнила пропуски, где это возможно, изменила тип данных в столбцах year_of_release, critic_score, user_score. Другие стобцы я не трогала, так как тип данных там задан верно. Явные дубликаты не были найдены. Также был добавлен столбцец с суммарными продажами во всех регионах по каждой игре. "
   ]
  },
  {
   "cell_type": "markdown",
   "metadata": {},
   "source": [
    "### Исследовательский анализ данных"
   ]
  },
  {
   "cell_type": "markdown",
   "metadata": {},
   "source": [
    "#### Игровая индустрия с 1980 по 2016"
   ]
  },
  {
   "cell_type": "markdown",
   "metadata": {},
   "source": [
    "Посмотрим, сколько игр выпускалось в разные годы."
   ]
  },
  {
   "cell_type": "code",
   "execution_count": 14,
   "metadata": {},
   "outputs": [
    {
     "data": {
      "text/plain": [
       "Text(0, 0.5, 'Количество игр')"
      ]
     },
     "execution_count": 14,
     "metadata": {},
     "output_type": "execute_result"
    },
    {
     "data": {
      "image/png": "[encoded data removed]",
      "text/plain": [
       "<Figure size 1080x360 with 1 Axes>"
      ]
     },
     "metadata": {
      "needs_background": "light"
     },
     "output_type": "display_data"
    }
   ],
   "source": [
    "data.pivot_table(index='year_of_release', \n",
    "                 values='name', \n",
    "                 aggfunc=['count']).plot(grid=True, \n",
    "                                         style='-o', \n",
    "                                         figsize=(15, 5))\n",
    "plt.xlabel('Год релиза')\n",
    "plt.ylabel('Количество игр')"
   ]
  },
  {
   "cell_type": "markdown",
   "metadata": {},
   "source": [
    "**Вывод**\n",
    "\n",
    "На графике видно, что что в 80-ых - 00-ые культура игр только зарождалась, но даже на небольших данных заметно, что уже тогда игры имели потенциал для развития. Начиная с 2000-ых начался  заметный рост. Пик производства игр приходится на 2008 и 2009 года. Позже идет спад, который связан возможно с появлением мобильных платформ iOS и Android и развитием мобильных игр."
   ]
  },
  {
   "cell_type": "markdown",
   "metadata": {},
   "source": [
    "#### Анализ платформ и их жизненный цикл"
   ]
  },
  {
   "cell_type": "markdown",
   "metadata": {},
   "source": [
    "Посмотрим, как менялись продажи по платформам и выясним за какой характерный срок появляются новые и исчезают старые платформы."
   ]
  },
  {
   "cell_type": "code",
   "execution_count": 15,
   "metadata": {},
   "outputs": [
    {
     "data": {
      "text/html": [
       "<div>\n",
       "<style scoped>\n",
       "    .dataframe tbody tr th:only-of-type {\n",
       "        vertical-align: middle;\n",
       "    }\n",
       "\n",
       "    .dataframe tbody tr th {\n",
       "        vertical-align: top;\n",
       "    }\n",
       "\n",
       "    .dataframe thead th {\n",
       "        text-align: right;\n",
       "    }\n",
       "</style>\n",
       "<table border=\"1\" class=\"dataframe\">\n",
       "  <thead>\n",
       "    <tr style=\"text-align: right;\">\n",
       "      <th></th>\n",
       "      <th>total_sales</th>\n",
       "    </tr>\n",
       "    <tr>\n",
       "      <th>platform</th>\n",
       "      <th></th>\n",
       "    </tr>\n",
       "  </thead>\n",
       "  <tbody>\n",
       "    <tr>\n",
       "      <th>PS2</th>\n",
       "      <td>1233.56</td>\n",
       "    </tr>\n",
       "    <tr>\n",
       "      <th>X360</th>\n",
       "      <td>961.24</td>\n",
       "    </tr>\n",
       "    <tr>\n",
       "      <th>PS3</th>\n",
       "      <td>931.34</td>\n",
       "    </tr>\n",
       "    <tr>\n",
       "      <th>Wii</th>\n",
       "      <td>891.18</td>\n",
       "    </tr>\n",
       "    <tr>\n",
       "      <th>DS</th>\n",
       "      <td>802.78</td>\n",
       "    </tr>\n",
       "    <tr>\n",
       "      <th>PS</th>\n",
       "      <td>727.58</td>\n",
       "    </tr>\n",
       "    <tr>\n",
       "      <th>PS4</th>\n",
       "      <td>314.14</td>\n",
       "    </tr>\n",
       "    <tr>\n",
       "      <th>GBA</th>\n",
       "      <td>312.88</td>\n",
       "    </tr>\n",
       "    <tr>\n",
       "      <th>PSP</th>\n",
       "      <td>289.53</td>\n",
       "    </tr>\n",
       "    <tr>\n",
       "      <th>3DS</th>\n",
       "      <td>257.81</td>\n",
       "    </tr>\n",
       "  </tbody>\n",
       "</table>\n",
       "</div>"
      ],
      "text/plain": [
       "          total_sales\n",
       "platform             \n",
       "PS2           1233.56\n",
       "X360           961.24\n",
       "PS3            931.34\n",
       "Wii            891.18\n",
       "DS             802.78\n",
       "PS             727.58\n",
       "PS4            314.14\n",
       "GBA            312.88\n",
       "PSP            289.53\n",
       "3DS            257.81"
      ]
     },
     "execution_count": 15,
     "metadata": {},
     "output_type": "execute_result"
    }
   ],
   "source": [
    "# создадим список из топ-6 популярных платформ\n",
    "top_platform = data.pivot_table(index='platform', \n",
    "                                values='total_sales', \n",
    "                                aggfunc='sum').sort_values(by='total_sales', \n",
    "                                                           ascending=False)\n",
    "top_platform.head(10)"
   ]
  },
  {
   "cell_type": "code",
   "execution_count": 16,
   "metadata": {},
   "outputs": [
    {
     "data": {
      "text/plain": [
       "Text(0, 0.5, 'Количество продаж')"
      ]
     },
     "execution_count": 16,
     "metadata": {},
     "output_type": "execute_result"
    },
    {
     "data": {
      "image/png": "[encoded data removed]",
      "text/plain": [
       "<Figure size 1080x360 with 1 Axes>"
      ]
     },
     "metadata": {
      "needs_background": "light"
     },
     "output_type": "display_data"
    }
   ],
   "source": [
    "plt.figure(figsize=(15,5))\n",
    "sns.barplot(x=top_platform.index,y=top_platform['total_sales'])\n",
    "plt.title(\"Продажи по платформам\")\n",
    "plt.xlabel(\"Платформа\")\n",
    "plt.ylabel(\"Количество продаж\")"
   ]
  },
  {
   "cell_type": "markdown",
   "metadata": {},
   "source": [
    "Мы получили самые популярные 6 платформ за период: PS2, X360, PS3, Wii, DS, PS. \n",
    "\n",
    "Теперь посмотрим на их распределение всех платформ по годам."
   ]
  },
  {
   "cell_type": "code",
   "execution_count": 17,
   "metadata": {},
   "outputs": [
    {
     "name": "stderr",
     "output_type": "stream",
     "text": [
      "/opt/conda/lib/python3.9/site-packages/pandas/plotting/_matplotlib/core.py:337: RuntimeWarning: More than 20 figures have been opened. Figures created through the pyplot interface (`matplotlib.pyplot.figure`) are retained until explicitly closed and may consume too much memory. (To control this warning, see the rcParam `figure.max_open_warning`).\n",
      "  fig = self.plt.figure(figsize=self.figsize)\n"
     ]
    },
    {
     "data": {
      "image/png": "[encoded data removed]",
      "text/plain": [
       "<Figure size 1080x360 with 1 Axes>"
      ]
     },
     "metadata": {
      "needs_background": "light"
     },
     "output_type": "display_data"
    },
    {
     "data": {
      "image/png": "[encoded data removed]",
      "text/plain": [
       "<Figure size 1080x360 with 1 Axes>"
      ]
     },
     "metadata": {
      "needs_background": "light"
     },
     "output_type": "display_data"
    },
    {
     "data": {
      "image/png": "[encoded data removed]",
      "text/plain": [
       "<Figure size 1080x360 with 1 Axes>"
      ]
     },
     "metadata": {
      "needs_background": "light"
     },
     "output_type": "display_data"
    },
    {
     "data": {
      "image/png": "[encoded data removed]",
      "text/plain": [
       "<Figure size 1080x360 with 1 Axes>"
      ]
     },
     "metadata": {
      "needs_background": "light"
     },
     "output_type": "display_data"
    },
    {
     "data": {
      "image/png": "[encoded data removed]",
      "text/plain": [
       "<Figure size 1080x360 with 1 Axes>"
      ]
     },
     "metadata": {
      "needs_background": "light"
     },
     "output_type": "display_data"
    },
    {
     "data": {
      "image/png": "[encoded data removed]",
      "text/plain": [
       "<Figure size 1080x360 with 1 Axes>"
      ]
     },
     "metadata": {
      "needs_background": "light"
     },
     "output_type": "display_data"
    },
    {
     "data": {
      "image/png": "[encoded data removed]",
      "text/plain": [
       "<Figure size 1080x360 with 1 Axes>"
      ]
     },
     "metadata": {
      "needs_background": "light"
     },
     "output_type": "display_data"
    },
    {
     "data": {
      "image/png": "[encoded data removed]",
      "text/plain": [
       "<Figure size 1080x360 with 1 Axes>"
      ]
     },
     "metadata": {
      "needs_background": "light"
     },
     "output_type": "display_data"
    },
    {
     "data": {
      "image/png": "[encoded data removed]",
      "text/plain": [
       "<Figure size 1080x360 with 1 Axes>"
      ]
     },
     "metadata": {
      "needs_background": "light"
     },
     "output_type": "display_data"
    },
    {
     "data": {
      "image/png": "[encoded data removed]",
      "text/plain": [
       "<Figure size 1080x360 with 1 Axes>"
      ]
     },
     "metadata": {
      "needs_background": "light"
     },
     "output_type": "display_data"
    },
    {
     "data": {
      "image/png": "[encoded data removed]",
      "text/plain": [
       "<Figure size 1080x360 with 1 Axes>"
      ]
     },
     "metadata": {
      "needs_background": "light"
     },
     "output_type": "display_data"
    },
    {
     "data": {
      "image/png": "[encoded data removed]",
      "text/plain": [
       "<Figure size 1080x360 with 1 Axes>"
      ]
     },
     "metadata": {
      "needs_background": "light"
     },
     "output_type": "display_data"
    },
    {
     "data": {
      "image/png": "[encoded data removed]",
      "text/plain": [
       "<Figure size 1080x360 with 1 Axes>"
      ]
     },
     "metadata": {
      "needs_background": "light"
     },
     "output_type": "display_data"
    },
    {
     "data": {
      "image/png": "[encoded data removed]",
      "text/plain": [
       "<Figure size 1080x360 with 1 Axes>"
      ]
     },
     "metadata": {
      "needs_background": "light"
     },
     "output_type": "display_data"
    },
    {
     "data": {
      "image/png": "[encoded data removed]",
      "text/plain": [
       "<Figure size 1080x360 with 1 Axes>"
      ]
     },
     "metadata": {
      "needs_background": "light"
     },
     "output_type": "display_data"
    },
    {
     "data": {
      "image/png": "[encoded data removed]",
      "text/plain": [
       "<Figure size 1080x360 with 1 Axes>"
      ]
     },
     "metadata": {
      "needs_background": "light"
     },
     "output_type": "display_data"
    },
    {
     "data": {
      "image/png": "[encoded data removed]",
      "text/plain": [
       "<Figure size 1080x360 with 1 Axes>"
      ]
     },
     "metadata": {
      "needs_background": "light"
     },
     "output_type": "display_data"
    },
    {
     "data": {
      "image/png": "[encoded data removed]",
      "text/plain": [
       "<Figure size 1080x360 with 1 Axes>"
      ]
     },
     "metadata": {
      "needs_background": "light"
     },
     "output_type": "display_data"
    },
    {
     "data": {
      "image/png": "[encoded data removed]",
      "text/plain": [
       "<Figure size 1080x360 with 1 Axes>"
      ]
     },
     "metadata": {
      "needs_background": "light"
     },
     "output_type": "display_data"
    },
    {
     "data": {
      "image/png": "[encoded data removed]",
      "text/plain": [
       "<Figure size 1080x360 with 1 Axes>"
      ]
     },
     "metadata": {
      "needs_background": "light"
     },
     "output_type": "display_data"
    },
    {
     "data": {
      "image/png": "[encoded data removed]",
      "text/plain": [
       "<Figure size 1080x360 with 1 Axes>"
      ]
     },
     "metadata": {
      "needs_background": "light"
     },
     "output_type": "display_data"
    },
    {
     "data": {
      "image/png": "[encoded data removed]",
      "text/plain": [
       "<Figure size 1080x360 with 1 Axes>"
      ]
     },
     "metadata": {
      "needs_background": "light"
     },
     "output_type": "display_data"
    },
    {
     "data": {
      "image/png": "[encoded data removed]",
      "text/plain": [
       "<Figure size 1080x360 with 1 Axes>"
      ]
     },
     "metadata": {
      "needs_background": "light"
     },
     "output_type": "display_data"
    },
    {
     "data": {
      "image/png": "[encoded data removed]",
      "text/plain": [
       "<Figure size 1080x360 with 1 Axes>"
      ]
     },
     "metadata": {
      "needs_background": "light"
     },
     "output_type": "display_data"
    },
    {
     "data": {
      "image/png": "[encoded data removed]",
      "text/plain": [
       "<Figure size 1080x360 with 1 Axes>"
      ]
     },
     "metadata": {
      "needs_background": "light"
     },
     "output_type": "display_data"
    },
    {
     "data": {
      "image/png": "[encoded data removed]",
      "text/plain": [
       "<Figure size 1080x360 with 1 Axes>"
      ]
     },
     "metadata": {
      "needs_background": "light"
     },
     "output_type": "display_data"
    },
    {
     "data": {
      "image/png": "[encoded data removed]",
      "text/plain": [
       "<Figure size 1080x360 with 1 Axes>"
      ]
     },
     "metadata": {
      "needs_background": "light"
     },
     "output_type": "display_data"
    },
    {
     "data": {
      "image/png": "[encoded data removed]",
      "text/plain": [
       "<Figure size 1080x360 with 1 Axes>"
      ]
     },
     "metadata": {
      "needs_background": "light"
     },
     "output_type": "display_data"
    },
    {
     "data": {
      "image/png": "[encoded data removed]",
      "text/plain": [
       "<Figure size 1080x360 with 1 Axes>"
      ]
     },
     "metadata": {
      "needs_background": "light"
     },
     "output_type": "display_data"
    },
    {
     "data": {
      "image/png": "[encoded data removed]",
      "text/plain": [
       "<Figure size 1080x360 with 1 Axes>"
      ]
     },
     "metadata": {
      "needs_background": "light"
     },
     "output_type": "display_data"
    },
    {
     "data": {
      "image/png": "[encoded data removed]",
      "text/plain": [
       "<Figure size 1080x360 with 1 Axes>"
      ]
     },
     "metadata": {
      "needs_background": "light"
     },
     "output_type": "display_data"
    }
   ],
   "source": [
    "top_6 = top_platform.index.unique()\n",
    "for platform in top_6:\n",
    "    data[data['platform'] == platform].pivot_table(index='year_of_release', values='total_sales', aggfunc='sum').plot(\n",
    "        kind='bar', figsize=(15,5))\n",
    "    plt.title(platform)"
   ]
  },
  {
   "cell_type": "markdown",
   "metadata": {},
   "source": [
    "По графикам выше можно сделать вывод, что средний период жизни платформы 7-8 лет, после чего продажи идут на спад. \n",
    "\n",
    "Популярность набирают такие платформы, как:\n",
    "PS4, PS, xOne. Это потенциально прибыльные платформы на 2017 год.\n",
    "\n",
    "Изучив подробно графики, можно сделать вывод, что для дальнейшего анализа нам не нужны очень старые данные, поэтому сократим датасет и оставим все начиная с 2014 года."
   ]
  },
  {
   "cell_type": "code",
   "execution_count": 18,
   "metadata": {},
   "outputs": [
    {
     "data": {
      "text/html": [
       "<div>\n",
       "<style scoped>\n",
       "    .dataframe tbody tr th:only-of-type {\n",
       "        vertical-align: middle;\n",
       "    }\n",
       "\n",
       "    .dataframe tbody tr th {\n",
       "        vertical-align: top;\n",
       "    }\n",
       "\n",
       "    .dataframe thead th {\n",
       "        text-align: right;\n",
       "    }\n",
       "</style>\n",
       "<table border=\"1\" class=\"dataframe\">\n",
       "  <thead>\n",
       "    <tr style=\"text-align: right;\">\n",
       "      <th></th>\n",
       "      <th>name</th>\n",
       "      <th>platform</th>\n",
       "      <th>year_of_release</th>\n",
       "      <th>genre</th>\n",
       "      <th>na_sales</th>\n",
       "      <th>eu_sales</th>\n",
       "      <th>jp_sales</th>\n",
       "      <th>other_sales</th>\n",
       "      <th>critic_score</th>\n",
       "      <th>user_score</th>\n",
       "      <th>rating</th>\n",
       "      <th>total_sales</th>\n",
       "    </tr>\n",
       "  </thead>\n",
       "  <tbody>\n",
       "    <tr>\n",
       "      <th>31</th>\n",
       "      <td>Call of Duty: Black Ops 3</td>\n",
       "      <td>PS4</td>\n",
       "      <td>2015</td>\n",
       "      <td>Shooter</td>\n",
       "      <td>6.03</td>\n",
       "      <td>5.86</td>\n",
       "      <td>0.36</td>\n",
       "      <td>2.38</td>\n",
       "      <td>NaN</td>\n",
       "      <td>NaN</td>\n",
       "      <td>0</td>\n",
       "      <td>14.63</td>\n",
       "    </tr>\n",
       "    <tr>\n",
       "      <th>42</th>\n",
       "      <td>Grand Theft Auto V</td>\n",
       "      <td>PS4</td>\n",
       "      <td>2014</td>\n",
       "      <td>Action</td>\n",
       "      <td>3.96</td>\n",
       "      <td>6.31</td>\n",
       "      <td>0.38</td>\n",
       "      <td>1.97</td>\n",
       "      <td>97.0</td>\n",
       "      <td>8.3</td>\n",
       "      <td>M</td>\n",
       "      <td>12.62</td>\n",
       "    </tr>\n",
       "    <tr>\n",
       "      <th>47</th>\n",
       "      <td>Pokemon Omega Ruby/Pokemon Alpha Sapphire</td>\n",
       "      <td>3DS</td>\n",
       "      <td>2014</td>\n",
       "      <td>Role-Playing</td>\n",
       "      <td>4.35</td>\n",
       "      <td>3.49</td>\n",
       "      <td>3.10</td>\n",
       "      <td>0.74</td>\n",
       "      <td>NaN</td>\n",
       "      <td>NaN</td>\n",
       "      <td>0</td>\n",
       "      <td>11.68</td>\n",
       "    </tr>\n",
       "    <tr>\n",
       "      <th>77</th>\n",
       "      <td>FIFA 16</td>\n",
       "      <td>PS4</td>\n",
       "      <td>2015</td>\n",
       "      <td>Sports</td>\n",
       "      <td>1.12</td>\n",
       "      <td>6.12</td>\n",
       "      <td>0.06</td>\n",
       "      <td>1.28</td>\n",
       "      <td>82.0</td>\n",
       "      <td>4.3</td>\n",
       "      <td>E</td>\n",
       "      <td>8.58</td>\n",
       "    </tr>\n",
       "    <tr>\n",
       "      <th>87</th>\n",
       "      <td>Star Wars Battlefront (2015)</td>\n",
       "      <td>PS4</td>\n",
       "      <td>2015</td>\n",
       "      <td>Shooter</td>\n",
       "      <td>2.99</td>\n",
       "      <td>3.49</td>\n",
       "      <td>0.22</td>\n",
       "      <td>1.28</td>\n",
       "      <td>NaN</td>\n",
       "      <td>NaN</td>\n",
       "      <td>0</td>\n",
       "      <td>7.98</td>\n",
       "    </tr>\n",
       "  </tbody>\n",
       "</table>\n",
       "</div>"
      ],
      "text/plain": [
       "                                         name platform  year_of_release  \\\n",
       "31                  Call of Duty: Black Ops 3      PS4             2015   \n",
       "42                         Grand Theft Auto V      PS4             2014   \n",
       "47  Pokemon Omega Ruby/Pokemon Alpha Sapphire      3DS             2014   \n",
       "77                                    FIFA 16      PS4             2015   \n",
       "87               Star Wars Battlefront (2015)      PS4             2015   \n",
       "\n",
       "           genre  na_sales  eu_sales  jp_sales  other_sales  critic_score  \\\n",
       "31       Shooter      6.03      5.86      0.36         2.38           NaN   \n",
       "42        Action      3.96      6.31      0.38         1.97          97.0   \n",
       "47  Role-Playing      4.35      3.49      3.10         0.74           NaN   \n",
       "77        Sports      1.12      6.12      0.06         1.28          82.0   \n",
       "87       Shooter      2.99      3.49      0.22         1.28           NaN   \n",
       "\n",
       "    user_score rating  total_sales  \n",
       "31         NaN      0        14.63  \n",
       "42         8.3      M        12.62  \n",
       "47         NaN      0        11.68  \n",
       "77         4.3      E         8.58  \n",
       "87         NaN      0         7.98  "
      ]
     },
     "execution_count": 18,
     "metadata": {},
     "output_type": "execute_result"
    }
   ],
   "source": [
    "#создадим новый рабочий датасет\n",
    "df = data[data['year_of_release'] >= 2014]\n",
    "df.head()"
   ]
  },
  {
   "cell_type": "markdown",
   "metadata": {},
   "source": [
    "#### Глобальные продажи игр в разбивке по платформам"
   ]
  },
  {
   "cell_type": "markdown",
   "metadata": {},
   "source": [
    "Дальше посмотрим на глобальные продажи игр в разбивке по платформам."
   ]
  },
  {
   "cell_type": "code",
   "execution_count": 19,
   "metadata": {},
   "outputs": [
    {
     "data": {
      "text/html": [
       "<div>\n",
       "<style scoped>\n",
       "    .dataframe tbody tr th:only-of-type {\n",
       "        vertical-align: middle;\n",
       "    }\n",
       "\n",
       "    .dataframe tbody tr th {\n",
       "        vertical-align: top;\n",
       "    }\n",
       "\n",
       "    .dataframe thead th {\n",
       "        text-align: right;\n",
       "    }\n",
       "</style>\n",
       "<table border=\"1\" class=\"dataframe\">\n",
       "  <thead>\n",
       "    <tr style=\"text-align: right;\">\n",
       "      <th></th>\n",
       "      <th>total_sales</th>\n",
       "    </tr>\n",
       "    <tr>\n",
       "      <th>platform</th>\n",
       "      <th></th>\n",
       "    </tr>\n",
       "  </thead>\n",
       "  <tbody>\n",
       "    <tr>\n",
       "      <th>PS4</th>\n",
       "      <td>288.15</td>\n",
       "    </tr>\n",
       "    <tr>\n",
       "      <th>XOne</th>\n",
       "      <td>140.36</td>\n",
       "    </tr>\n",
       "    <tr>\n",
       "      <th>3DS</th>\n",
       "      <td>86.68</td>\n",
       "    </tr>\n",
       "    <tr>\n",
       "      <th>PS3</th>\n",
       "      <td>68.18</td>\n",
       "    </tr>\n",
       "    <tr>\n",
       "      <th>X360</th>\n",
       "      <td>48.22</td>\n",
       "    </tr>\n",
       "    <tr>\n",
       "      <th>WiiU</th>\n",
       "      <td>42.98</td>\n",
       "    </tr>\n",
       "    <tr>\n",
       "      <th>PC</th>\n",
       "      <td>27.05</td>\n",
       "    </tr>\n",
       "    <tr>\n",
       "      <th>PSV</th>\n",
       "      <td>22.40</td>\n",
       "    </tr>\n",
       "    <tr>\n",
       "      <th>Wii</th>\n",
       "      <td>5.07</td>\n",
       "    </tr>\n",
       "    <tr>\n",
       "      <th>PSP</th>\n",
       "      <td>0.36</td>\n",
       "    </tr>\n",
       "  </tbody>\n",
       "</table>\n",
       "</div>"
      ],
      "text/plain": [
       "          total_sales\n",
       "platform             \n",
       "PS4            288.15\n",
       "XOne           140.36\n",
       "3DS             86.68\n",
       "PS3             68.18\n",
       "X360            48.22\n",
       "WiiU            42.98\n",
       "PC              27.05\n",
       "PSV             22.40\n",
       "Wii              5.07\n",
       "PSP              0.36"
      ]
     },
     "execution_count": 19,
     "metadata": {},
     "output_type": "execute_result"
    }
   ],
   "source": [
    "#создадим новую сводную таблицу по свежим данным\n",
    "actual_platforms = df.pivot_table(index='platform', \n",
    "                                values='total_sales', \n",
    "                                aggfunc='sum').sort_values(by='total_sales', \n",
    "                                                           ascending=False)\n",
    "actual_platforms"
   ]
  },
  {
   "cell_type": "markdown",
   "metadata": {},
   "source": [
    "Топ-5 перспективным платформ по продажам: 'PS4', 'XOne', '3DS', 'PS3', 'X360'. Я бы остановилась на 'PS4', 'XOne' как на самых новых."
   ]
  },
  {
   "cell_type": "code",
   "execution_count": 20,
   "metadata": {},
   "outputs": [
    {
     "data": {
      "text/html": [
       "<div>\n",
       "<style scoped>\n",
       "    .dataframe tbody tr th:only-of-type {\n",
       "        vertical-align: middle;\n",
       "    }\n",
       "\n",
       "    .dataframe tbody tr th {\n",
       "        vertical-align: top;\n",
       "    }\n",
       "\n",
       "    .dataframe thead th {\n",
       "        text-align: right;\n",
       "    }\n",
       "</style>\n",
       "<table border=\"1\" class=\"dataframe\">\n",
       "  <thead>\n",
       "    <tr style=\"text-align: right;\">\n",
       "      <th></th>\n",
       "      <th>name</th>\n",
       "      <th>platform</th>\n",
       "      <th>year_of_release</th>\n",
       "      <th>genre</th>\n",
       "      <th>na_sales</th>\n",
       "      <th>eu_sales</th>\n",
       "      <th>jp_sales</th>\n",
       "      <th>other_sales</th>\n",
       "      <th>critic_score</th>\n",
       "      <th>user_score</th>\n",
       "      <th>rating</th>\n",
       "      <th>total_sales</th>\n",
       "    </tr>\n",
       "  </thead>\n",
       "  <tbody>\n",
       "    <tr>\n",
       "      <th>31</th>\n",
       "      <td>Call of Duty: Black Ops 3</td>\n",
       "      <td>PS4</td>\n",
       "      <td>2015</td>\n",
       "      <td>Shooter</td>\n",
       "      <td>6.03</td>\n",
       "      <td>5.86</td>\n",
       "      <td>0.36</td>\n",
       "      <td>2.38</td>\n",
       "      <td>NaN</td>\n",
       "      <td>NaN</td>\n",
       "      <td>0</td>\n",
       "      <td>14.63</td>\n",
       "    </tr>\n",
       "    <tr>\n",
       "      <th>42</th>\n",
       "      <td>Grand Theft Auto V</td>\n",
       "      <td>PS4</td>\n",
       "      <td>2014</td>\n",
       "      <td>Action</td>\n",
       "      <td>3.96</td>\n",
       "      <td>6.31</td>\n",
       "      <td>0.38</td>\n",
       "      <td>1.97</td>\n",
       "      <td>97.0</td>\n",
       "      <td>8.3</td>\n",
       "      <td>M</td>\n",
       "      <td>12.62</td>\n",
       "    </tr>\n",
       "    <tr>\n",
       "      <th>47</th>\n",
       "      <td>Pokemon Omega Ruby/Pokemon Alpha Sapphire</td>\n",
       "      <td>3DS</td>\n",
       "      <td>2014</td>\n",
       "      <td>Role-Playing</td>\n",
       "      <td>4.35</td>\n",
       "      <td>3.49</td>\n",
       "      <td>3.10</td>\n",
       "      <td>0.74</td>\n",
       "      <td>NaN</td>\n",
       "      <td>NaN</td>\n",
       "      <td>0</td>\n",
       "      <td>11.68</td>\n",
       "    </tr>\n",
       "    <tr>\n",
       "      <th>77</th>\n",
       "      <td>FIFA 16</td>\n",
       "      <td>PS4</td>\n",
       "      <td>2015</td>\n",
       "      <td>Sports</td>\n",
       "      <td>1.12</td>\n",
       "      <td>6.12</td>\n",
       "      <td>0.06</td>\n",
       "      <td>1.28</td>\n",
       "      <td>82.0</td>\n",
       "      <td>4.3</td>\n",
       "      <td>E</td>\n",
       "      <td>8.58</td>\n",
       "    </tr>\n",
       "    <tr>\n",
       "      <th>87</th>\n",
       "      <td>Star Wars Battlefront (2015)</td>\n",
       "      <td>PS4</td>\n",
       "      <td>2015</td>\n",
       "      <td>Shooter</td>\n",
       "      <td>2.99</td>\n",
       "      <td>3.49</td>\n",
       "      <td>0.22</td>\n",
       "      <td>1.28</td>\n",
       "      <td>NaN</td>\n",
       "      <td>NaN</td>\n",
       "      <td>0</td>\n",
       "      <td>7.98</td>\n",
       "    </tr>\n",
       "    <tr>\n",
       "      <th>...</th>\n",
       "      <td>...</td>\n",
       "      <td>...</td>\n",
       "      <td>...</td>\n",
       "      <td>...</td>\n",
       "      <td>...</td>\n",
       "      <td>...</td>\n",
       "      <td>...</td>\n",
       "      <td>...</td>\n",
       "      <td>...</td>\n",
       "      <td>...</td>\n",
       "      <td>...</td>\n",
       "      <td>...</td>\n",
       "    </tr>\n",
       "    <tr>\n",
       "      <th>16401</th>\n",
       "      <td>Metal Gear Solid V: The Definitive Experience</td>\n",
       "      <td>XOne</td>\n",
       "      <td>2016</td>\n",
       "      <td>Action</td>\n",
       "      <td>0.01</td>\n",
       "      <td>0.00</td>\n",
       "      <td>0.00</td>\n",
       "      <td>0.00</td>\n",
       "      <td>NaN</td>\n",
       "      <td>NaN</td>\n",
       "      <td>M</td>\n",
       "      <td>0.01</td>\n",
       "    </tr>\n",
       "    <tr>\n",
       "      <th>16403</th>\n",
       "      <td>Tsukigime Ranko's Longest Day</td>\n",
       "      <td>PS3</td>\n",
       "      <td>2014</td>\n",
       "      <td>Action</td>\n",
       "      <td>0.00</td>\n",
       "      <td>0.01</td>\n",
       "      <td>0.00</td>\n",
       "      <td>0.00</td>\n",
       "      <td>NaN</td>\n",
       "      <td>NaN</td>\n",
       "      <td>0</td>\n",
       "      <td>0.01</td>\n",
       "    </tr>\n",
       "    <tr>\n",
       "      <th>16406</th>\n",
       "      <td>Aikatsu Stars! My Special Appeal</td>\n",
       "      <td>3DS</td>\n",
       "      <td>2016</td>\n",
       "      <td>Action</td>\n",
       "      <td>0.00</td>\n",
       "      <td>0.00</td>\n",
       "      <td>0.01</td>\n",
       "      <td>0.00</td>\n",
       "      <td>NaN</td>\n",
       "      <td>NaN</td>\n",
       "      <td>0</td>\n",
       "      <td>0.01</td>\n",
       "    </tr>\n",
       "    <tr>\n",
       "      <th>16420</th>\n",
       "      <td>Dynasty Warriors: Eiketsuden</td>\n",
       "      <td>PS3</td>\n",
       "      <td>2016</td>\n",
       "      <td>Action</td>\n",
       "      <td>0.00</td>\n",
       "      <td>0.00</td>\n",
       "      <td>0.01</td>\n",
       "      <td>0.00</td>\n",
       "      <td>NaN</td>\n",
       "      <td>NaN</td>\n",
       "      <td>0</td>\n",
       "      <td>0.01</td>\n",
       "    </tr>\n",
       "    <tr>\n",
       "      <th>16439</th>\n",
       "      <td>Samurai Warriors: Sanada Maru</td>\n",
       "      <td>PS3</td>\n",
       "      <td>2016</td>\n",
       "      <td>Action</td>\n",
       "      <td>0.00</td>\n",
       "      <td>0.00</td>\n",
       "      <td>0.01</td>\n",
       "      <td>0.00</td>\n",
       "      <td>NaN</td>\n",
       "      <td>NaN</td>\n",
       "      <td>0</td>\n",
       "      <td>0.01</td>\n",
       "    </tr>\n",
       "  </tbody>\n",
       "</table>\n",
       "<p>1146 rows × 12 columns</p>\n",
       "</div>"
      ],
      "text/plain": [
       "                                                name platform  \\\n",
       "31                         Call of Duty: Black Ops 3      PS4   \n",
       "42                                Grand Theft Auto V      PS4   \n",
       "47         Pokemon Omega Ruby/Pokemon Alpha Sapphire      3DS   \n",
       "77                                           FIFA 16      PS4   \n",
       "87                      Star Wars Battlefront (2015)      PS4   \n",
       "...                                              ...      ...   \n",
       "16401  Metal Gear Solid V: The Definitive Experience     XOne   \n",
       "16403                  Tsukigime Ranko's Longest Day      PS3   \n",
       "16406               Aikatsu Stars! My Special Appeal      3DS   \n",
       "16420                   Dynasty Warriors: Eiketsuden      PS3   \n",
       "16439                  Samurai Warriors: Sanada Maru      PS3   \n",
       "\n",
       "       year_of_release         genre  na_sales  eu_sales  jp_sales  \\\n",
       "31                2015       Shooter      6.03      5.86      0.36   \n",
       "42                2014        Action      3.96      6.31      0.38   \n",
       "47                2014  Role-Playing      4.35      3.49      3.10   \n",
       "77                2015        Sports      1.12      6.12      0.06   \n",
       "87                2015       Shooter      2.99      3.49      0.22   \n",
       "...                ...           ...       ...       ...       ...   \n",
       "16401             2016        Action      0.01      0.00      0.00   \n",
       "16403             2014        Action      0.00      0.01      0.00   \n",
       "16406             2016        Action      0.00      0.00      0.01   \n",
       "16420             2016        Action      0.00      0.00      0.01   \n",
       "16439             2016        Action      0.00      0.00      0.01   \n",
       "\n",
       "       other_sales  critic_score  user_score rating  total_sales  \n",
       "31            2.38           NaN         NaN      0        14.63  \n",
       "42            1.97          97.0         8.3      M        12.62  \n",
       "47            0.74           NaN         NaN      0        11.68  \n",
       "77            1.28          82.0         4.3      E         8.58  \n",
       "87            1.28           NaN         NaN      0         7.98  \n",
       "...            ...           ...         ...    ...          ...  \n",
       "16401         0.00           NaN         NaN      M         0.01  \n",
       "16403         0.00           NaN         NaN      0         0.01  \n",
       "16406         0.00           NaN         NaN      0         0.01  \n",
       "16420         0.00           NaN         NaN      0         0.01  \n",
       "16439         0.00           NaN         NaN      0         0.01  \n",
       "\n",
       "[1146 rows x 12 columns]"
      ]
     },
     "execution_count": 20,
     "metadata": {},
     "output_type": "execute_result"
    }
   ],
   "source": [
    "platforms_list = df.query('platform == \"PS3\" or platform == \"X360\" \\\n",
    "or platform == \"3DS\" or platform == \"PS4\" or platform == \"XOne\"')\n",
    "platforms_list"
   ]
  },
  {
   "cell_type": "code",
   "execution_count": 21,
   "metadata": {},
   "outputs": [
    {
     "data": {
      "text/plain": [
       "Text(0, 0.5, 'Продажи')"
      ]
     },
     "execution_count": 21,
     "metadata": {},
     "output_type": "execute_result"
    },
    {
     "data": {
      "image/png": "[encoded data removed]",
      "text/plain": [
       "<Figure size 360x360 with 1 Axes>"
      ]
     },
     "metadata": {
      "needs_background": "light"
     },
     "output_type": "display_data"
    }
   ],
   "source": [
    "#oтрисуем ящики с усами \n",
    "plt.figure(figsize=(5,5))\n",
    "sns.boxplot(data=platforms_list, x='platform', y='total_sales')\n",
    "plt.ylim([0, 1.5])\n",
    "plt.title('Ящик с усами', fontsize=15)\n",
    "plt.xlabel('Платформа', fontsize=12)\n",
    "plt.ylabel('Продажи',fontsize=12)\n"
   ]
  },
  {
   "cell_type": "markdown",
   "metadata": {},
   "source": [
    "**Вывод**\n",
    "\n",
    "На графике видно, что медиана у всех разная. \n",
    "Продаж больше всего у x360 и Xone, далее идет x360. И меньше всего продаж у и 3DS, это довольно новая платформа, которая просто уступает своим конкурентам. Также мало продаж и у PS3, это объясняется тем, что это уже довольно старая платформа, а мы рассматриваем данные начиная с 2014.\n",
    "PS4 - самая новая и только набирает популярность. PS3 передает лидерство более новой приставке PS4, такжеи с x360 и XOne, если взять еще более свежие данные для анализа."
   ]
  },
  {
   "cell_type": "markdown",
   "metadata": {},
   "source": [
    "#### Влияние отзывов пользователей и критиков"
   ]
  },
  {
   "cell_type": "markdown",
   "metadata": {},
   "source": [
    "Посмотрим, как влияют на продажи внутри одной популярной платформы отзывы пользователей и критиков. Постройте диаграмму рассеяния и посчитайте корреляцию между отзывами и продажами. "
   ]
  },
  {
   "cell_type": "code",
   "execution_count": 22,
   "metadata": {},
   "outputs": [
    {
     "data": {
      "image/png": "[encoded data removed]",
      "text/plain": [
       "<Figure size 432x288 with 1 Axes>"
      ]
     },
     "metadata": {
      "needs_background": "light"
     },
     "output_type": "display_data"
    },
    {
     "data": {
      "image/png": "[encoded data removed]",
      "text/plain": [
       "<Figure size 432x288 with 1 Axes>"
      ]
     },
     "metadata": {
      "needs_background": "light"
     },
     "output_type": "display_data"
    },
    {
     "name": "stdout",
     "output_type": "stream",
     "text": [
      "0.44657460493190704\n",
      "-0.16676141347662118\n"
     ]
    }
   ],
   "source": [
    "sns.scatterplot(x='critic_score', y='total_sales', data=df[df['platform']=='PS3'])\n",
    "plt.show()\n",
    "sns.scatterplot(x='user_score', y='total_sales', data=df[df['platform']=='PS3'])\n",
    "plt.show()\n",
    "print(df[df['platform']=='PS3']['critic_score'].corr(df['total_sales']))\n",
    "print(df[df['platform']=='PS3']['user_score'].corr(df['total_sales']))"
   ]
  },
  {
   "cell_type": "code",
   "execution_count": 23,
   "metadata": {},
   "outputs": [
    {
     "data": {
      "image/png": "[encoded data removed]",
      "text/plain": [
       "<Figure size 432x288 with 1 Axes>"
      ]
     },
     "metadata": {
      "needs_background": "light"
     },
     "output_type": "display_data"
    },
    {
     "data": {
      "image/png": "[encoded data removed]",
      "text/plain": [
       "<Figure size 432x288 with 1 Axes>"
      ]
     },
     "metadata": {
      "needs_background": "light"
     },
     "output_type": "display_data"
    },
    {
     "name": "stdout",
     "output_type": "stream",
     "text": [
      "0.5257228356581523\n",
      "-0.138444570945665\n"
     ]
    }
   ],
   "source": [
    "sns.scatterplot(x='critic_score', y='total_sales', data=df[df['platform']=='X360'])\n",
    "plt.show()\n",
    "sns.scatterplot(x='user_score', y='total_sales', data=df[df['platform']=='X360'])\n",
    "plt.show()\n",
    "print(df[df['platform']=='X360']['critic_score'].corr(df['total_sales']))\n",
    "print(df[df['platform']=='X360']['user_score'].corr(df['total_sales']))"
   ]
  },
  {
   "cell_type": "code",
   "execution_count": 24,
   "metadata": {},
   "outputs": [
    {
     "data": {
      "image/png": "[encoded data removed]",
      "text/plain": [
       "<Figure size 432x288 with 1 Axes>"
      ]
     },
     "metadata": {
      "needs_background": "light"
     },
     "output_type": "display_data"
    },
    {
     "data": {
      "image/png": "[encoded data removed]",
      "text/plain": [
       "<Figure size 432x288 with 1 Axes>"
      ]
     },
     "metadata": {
      "needs_background": "light"
     },
     "output_type": "display_data"
    },
    {
     "name": "stdout",
     "output_type": "stream",
     "text": [
      "0.40266141068104083\n",
      "-0.040131589472697356\n"
     ]
    }
   ],
   "source": [
    "sns.scatterplot(x='critic_score', y='total_sales', data=df[df['platform']=='PS4'])\n",
    "plt.show()\n",
    "sns.scatterplot(x='user_score', y='total_sales', data=df[df['platform']=='PS4'])\n",
    "plt.show()\n",
    "print(df[df['platform']=='PS4']['critic_score'].corr(df['total_sales']))\n",
    "print(df[df['platform']=='PS4']['user_score'].corr(df['total_sales']))"
   ]
  },
  {
   "cell_type": "code",
   "execution_count": 25,
   "metadata": {},
   "outputs": [
    {
     "data": {
      "image/png": "[encoded data removed]",
      "text/plain": [
       "<Figure size 432x288 with 1 Axes>"
      ]
     },
     "metadata": {
      "needs_background": "light"
     },
     "output_type": "display_data"
    },
    {
     "data": {
      "image/png": "[encoded data removed]",
      "text/plain": [
       "<Figure size 432x288 with 1 Axes>"
      ]
     },
     "metadata": {
      "needs_background": "light"
     },
     "output_type": "display_data"
    },
    {
     "name": "stdout",
     "output_type": "stream",
     "text": [
      "0.314117492869051\n",
      "0.2151932718527028\n"
     ]
    }
   ],
   "source": [
    "sns.scatterplot(x='critic_score', y='total_sales', data=df[df['platform']=='3DS'])\n",
    "plt.show()\n",
    "sns.scatterplot(x='user_score', y='total_sales', data=df[df['platform']=='3DS'])\n",
    "plt.show()\n",
    "print(df[df['platform']=='3DS']['critic_score'].corr(df['total_sales']))\n",
    "print(df[df['platform']=='3DS']['user_score'].corr(df['total_sales']))"
   ]
  },
  {
   "cell_type": "code",
   "execution_count": 26,
   "metadata": {},
   "outputs": [
    {
     "data": {
      "image/png": "[encoded data removed]",
      "text/plain": [
       "<Figure size 432x288 with 1 Axes>"
      ]
     },
     "metadata": {
      "needs_background": "light"
     },
     "output_type": "display_data"
    },
    {
     "data": {
      "image/png": "[encoded data removed]",
      "text/plain": [
       "<Figure size 432x288 with 1 Axes>"
      ]
     },
     "metadata": {
      "needs_background": "light"
     },
     "output_type": "display_data"
    },
    {
     "name": "stdout",
     "output_type": "stream",
     "text": [
      "0.42867694370333226\n",
      "-0.0703839280647581\n"
     ]
    }
   ],
   "source": [
    "sns.scatterplot(x='critic_score', y='total_sales', data=df[df['platform']=='XOne'])\n",
    "plt.show()\n",
    "sns.scatterplot(x='user_score', y='total_sales', data=df[df['platform']=='XOne'])\n",
    "plt.show()\n",
    "print(df[df['platform']=='XOne']['critic_score'].corr(df['total_sales']))\n",
    "print(df[df['platform']=='XOne']['user_score'].corr(df['total_sales']))"
   ]
  },
  {
   "cell_type": "markdown",
   "metadata": {},
   "source": [
    "**Вывод**\n",
    "\n",
    "Основной вывод, который можно сделать, глядя на все графики, что взаимосвязь отзывов и продаж хоть и не сильная,  но есть. В большей мере на продажи влияют отзывы критиков. А связь между оценками пользователей и продажами слабая у всех платформ, либо её совсем нет. Поэтому можно сделать выводы, что пользователи чаще прислушиваются критиков, чем других игроков. "
   ]
  },
  {
   "cell_type": "markdown",
   "metadata": {},
   "source": [
    "####  Распределение игр по жанрам"
   ]
  },
  {
   "cell_type": "markdown",
   "metadata": {},
   "source": [
    "Посмотрим на общее распределение игр по жанрам. Найдем самые прибыльные жанры. Посмотрим выделяются ли жанры с высокими и низкими продажами?"
   ]
  },
  {
   "cell_type": "code",
   "execution_count": 27,
   "metadata": {},
   "outputs": [
    {
     "data": {
      "text/html": [
       "<div>\n",
       "<style scoped>\n",
       "    .dataframe tbody tr th:only-of-type {\n",
       "        vertical-align: middle;\n",
       "    }\n",
       "\n",
       "    .dataframe tbody tr th {\n",
       "        vertical-align: top;\n",
       "    }\n",
       "\n",
       "    .dataframe thead th {\n",
       "        text-align: right;\n",
       "    }\n",
       "</style>\n",
       "<table border=\"1\" class=\"dataframe\">\n",
       "  <thead>\n",
       "    <tr style=\"text-align: right;\">\n",
       "      <th></th>\n",
       "      <th>total_sales</th>\n",
       "    </tr>\n",
       "    <tr>\n",
       "      <th>genre</th>\n",
       "      <th></th>\n",
       "    </tr>\n",
       "  </thead>\n",
       "  <tbody>\n",
       "    <tr>\n",
       "      <th>Action</th>\n",
       "      <td>199.36</td>\n",
       "    </tr>\n",
       "    <tr>\n",
       "      <th>Shooter</th>\n",
       "      <td>170.94</td>\n",
       "    </tr>\n",
       "    <tr>\n",
       "      <th>Sports</th>\n",
       "      <td>109.48</td>\n",
       "    </tr>\n",
       "    <tr>\n",
       "      <th>Role-Playing</th>\n",
       "      <td>101.44</td>\n",
       "    </tr>\n",
       "    <tr>\n",
       "      <th>Misc</th>\n",
       "      <td>37.55</td>\n",
       "    </tr>\n",
       "    <tr>\n",
       "      <th>Fighting</th>\n",
       "      <td>28.22</td>\n",
       "    </tr>\n",
       "    <tr>\n",
       "      <th>Racing</th>\n",
       "      <td>27.52</td>\n",
       "    </tr>\n",
       "    <tr>\n",
       "      <th>Platform</th>\n",
       "      <td>18.09</td>\n",
       "    </tr>\n",
       "    <tr>\n",
       "      <th>Adventure</th>\n",
       "      <td>17.55</td>\n",
       "    </tr>\n",
       "    <tr>\n",
       "      <th>Simulation</th>\n",
       "      <td>13.13</td>\n",
       "    </tr>\n",
       "    <tr>\n",
       "      <th>Strategy</th>\n",
       "      <td>3.96</td>\n",
       "    </tr>\n",
       "    <tr>\n",
       "      <th>Puzzle</th>\n",
       "      <td>2.21</td>\n",
       "    </tr>\n",
       "  </tbody>\n",
       "</table>\n",
       "</div>"
      ],
      "text/plain": [
       "              total_sales\n",
       "genre                    \n",
       "Action             199.36\n",
       "Shooter            170.94\n",
       "Sports             109.48\n",
       "Role-Playing       101.44\n",
       "Misc                37.55\n",
       "Fighting            28.22\n",
       "Racing              27.52\n",
       "Platform            18.09\n",
       "Adventure           17.55\n",
       "Simulation          13.13\n",
       "Strategy             3.96\n",
       "Puzzle               2.21"
      ]
     },
     "execution_count": 27,
     "metadata": {},
     "output_type": "execute_result"
    }
   ],
   "source": [
    "#создадим новую сводную таблицу по жанрам\n",
    "genre_list = df.pivot_table(index='genre', \n",
    "                                values='total_sales', \n",
    "                                aggfunc='sum').sort_values(by='total_sales', \n",
    "                                                           ascending=False)\n",
    "genre_list"
   ]
  },
  {
   "cell_type": "code",
   "execution_count": 28,
   "metadata": {
    "scrolled": true
   },
   "outputs": [
    {
     "data": {
      "text/plain": [
       "Text(0, 0.5, 'Количество продаж')"
      ]
     },
     "execution_count": 28,
     "metadata": {},
     "output_type": "execute_result"
    },
    {
     "data": {
      "image/png": "[encoded data removed]",
      "text/plain": [
       "<Figure size 1080x360 with 1 Axes>"
      ]
     },
     "metadata": {
      "needs_background": "light"
     },
     "output_type": "display_data"
    }
   ],
   "source": [
    "plt.figure(figsize=(15,5))\n",
    "sns.barplot(x=genre_list.index,y=genre_list['total_sales'])\n",
    "plt.title(\"Продажи по жанрам\")\n",
    "plt.xlabel(\"Жанр\")\n",
    "plt.ylabel(\"Количество продаж\")"
   ]
  },
  {
   "cell_type": "code",
   "execution_count": 29,
   "metadata": {},
   "outputs": [
    {
     "data": {
      "text/html": [
       "<div>\n",
       "<style scoped>\n",
       "    .dataframe tbody tr th:only-of-type {\n",
       "        vertical-align: middle;\n",
       "    }\n",
       "\n",
       "    .dataframe tbody tr th {\n",
       "        vertical-align: top;\n",
       "    }\n",
       "\n",
       "    .dataframe thead th {\n",
       "        text-align: right;\n",
       "    }\n",
       "</style>\n",
       "<table border=\"1\" class=\"dataframe\">\n",
       "  <thead>\n",
       "    <tr style=\"text-align: right;\">\n",
       "      <th></th>\n",
       "      <th>total_sales</th>\n",
       "    </tr>\n",
       "    <tr>\n",
       "      <th>genre</th>\n",
       "      <th></th>\n",
       "    </tr>\n",
       "  </thead>\n",
       "  <tbody>\n",
       "    <tr>\n",
       "      <th>Action</th>\n",
       "      <td>199.36</td>\n",
       "    </tr>\n",
       "    <tr>\n",
       "      <th>Shooter</th>\n",
       "      <td>170.94</td>\n",
       "    </tr>\n",
       "    <tr>\n",
       "      <th>Sports</th>\n",
       "      <td>109.48</td>\n",
       "    </tr>\n",
       "    <tr>\n",
       "      <th>Role-Playing</th>\n",
       "      <td>101.44</td>\n",
       "    </tr>\n",
       "    <tr>\n",
       "      <th>Misc</th>\n",
       "      <td>37.55</td>\n",
       "    </tr>\n",
       "    <tr>\n",
       "      <th>Fighting</th>\n",
       "      <td>28.22</td>\n",
       "    </tr>\n",
       "    <tr>\n",
       "      <th>Racing</th>\n",
       "      <td>27.52</td>\n",
       "    </tr>\n",
       "    <tr>\n",
       "      <th>Platform</th>\n",
       "      <td>18.09</td>\n",
       "    </tr>\n",
       "    <tr>\n",
       "      <th>Adventure</th>\n",
       "      <td>17.55</td>\n",
       "    </tr>\n",
       "    <tr>\n",
       "      <th>Simulation</th>\n",
       "      <td>13.13</td>\n",
       "    </tr>\n",
       "    <tr>\n",
       "      <th>Strategy</th>\n",
       "      <td>3.96</td>\n",
       "    </tr>\n",
       "    <tr>\n",
       "      <th>Puzzle</th>\n",
       "      <td>2.21</td>\n",
       "    </tr>\n",
       "  </tbody>\n",
       "</table>\n",
       "</div>"
      ],
      "text/plain": [
       "              total_sales\n",
       "genre                    \n",
       "Action             199.36\n",
       "Shooter            170.94\n",
       "Sports             109.48\n",
       "Role-Playing       101.44\n",
       "Misc                37.55\n",
       "Fighting            28.22\n",
       "Racing              27.52\n",
       "Platform            18.09\n",
       "Adventure           17.55\n",
       "Simulation          13.13\n",
       "Strategy             3.96\n",
       "Puzzle               2.21"
      ]
     },
     "execution_count": 29,
     "metadata": {},
     "output_type": "execute_result"
    }
   ],
   "source": [
    "#создадим новую сводную таблицу по жанрам и посчитаем медианные значения\n",
    "genre_list_median = df.pivot_table(index='genre', \n",
    "                                values='total_sales', \n",
    "                                aggfunc='median').sort_values(by='total_sales', \n",
    "                                                           ascending=False)\n",
    "genre_list"
   ]
  },
  {
   "cell_type": "code",
   "execution_count": 30,
   "metadata": {
    "scrolled": true
   },
   "outputs": [
    {
     "data": {
      "text/plain": [
       "Text(0, 0.5, 'Количество продаж')"
      ]
     },
     "execution_count": 30,
     "metadata": {},
     "output_type": "execute_result"
    },
    {
     "data": {
      "image/png": "[encoded data removed]",
      "text/plain": [
       "<Figure size 1080x360 with 1 Axes>"
      ]
     },
     "metadata": {
      "needs_background": "light"
     },
     "output_type": "display_data"
    }
   ],
   "source": [
    "plt.figure(figsize=(15,5))\n",
    "sns.barplot(x=genre_list_median.index,y=genre_list_median['total_sales'])\n",
    "plt.title(\"Продажи по жанрам\")\n",
    "plt.xlabel(\"Жанр\")\n",
    "plt.ylabel(\"Количество продаж\")"
   ]
  },
  {
   "cell_type": "markdown",
   "metadata": {},
   "source": [
    "**Вывод**\n",
    "\n",
    "Наиболее популярные жанры: Action, Shooter, Sports, Role-Playing, Misc. На последнем месте стратегии и пазлы. На первых местах игры, которые требуют больше ресурсов для их создания. \n",
    "\n",
    "Ситуация с медианными зачениями выглядят немного иначе: выделяется Shooter (0.51), дальше идет Sports и Platform. При создании новой игры или рекламной кампании я бы обратила внимание на Shooter и Sports, которые выделяются на двух графиках."
   ]
  },
  {
   "cell_type": "markdown",
   "metadata": {},
   "source": [
    "### Портрет пользователя каждого региона"
   ]
  },
  {
   "cell_type": "markdown",
   "metadata": {},
   "source": [
    "#### Анализ пользователей в Северной Америке"
   ]
  },
  {
   "cell_type": "markdown",
   "metadata": {},
   "source": [
    "Опишем портрет пользователя для каждого региона. Начнем с Северной Америки."
   ]
  },
  {
   "cell_type": "code",
   "execution_count": 31,
   "metadata": {},
   "outputs": [
    {
     "data": {
      "text/plain": [
       "Text(0, 0.5, 'Количество продаж')"
      ]
     },
     "execution_count": 31,
     "metadata": {},
     "output_type": "execute_result"
    },
    {
     "data": {
      "image/png": "[encoded data removed]",
      "text/plain": [
       "<Figure size 1080x360 with 1 Axes>"
      ]
     },
     "metadata": {
      "needs_background": "light"
     },
     "output_type": "display_data"
    }
   ],
   "source": [
    "na_sales_list = df.pivot_table(index='platform', \n",
    "                                values='na_sales', \n",
    "                                aggfunc='sum').sort_values(by='na_sales', \n",
    "                                                           ascending=False)\n",
    "\n",
    "plt.figure(figsize=(15,5))\n",
    "sns.barplot(x=na_sales_list.index,y=na_sales_list['na_sales'])\n",
    "plt.title(\"Продажи по платформам в Северной Америке\")\n",
    "plt.xlabel(\"Платформа\")\n",
    "plt.ylabel(\"Количество продаж\")"
   ]
  },
  {
   "cell_type": "code",
   "execution_count": 32,
   "metadata": {},
   "outputs": [
    {
     "data": {
      "text/plain": [
       "Text(0, 0.5, 'Количество продаж')"
      ]
     },
     "execution_count": 32,
     "metadata": {},
     "output_type": "execute_result"
    },
    {
     "data": {
      "image/png": "[encoded data removed]",
      "text/plain": [
       "<Figure size 1080x360 with 1 Axes>"
      ]
     },
     "metadata": {
      "needs_background": "light"
     },
     "output_type": "display_data"
    }
   ],
   "source": [
    "na_genres_list = df.pivot_table(index='genre', \n",
    "                                values='na_sales', \n",
    "                                aggfunc='sum').sort_values(by='na_sales', \n",
    "                                                           ascending=False)\n",
    "\n",
    "plt.figure(figsize=(15,5))\n",
    "sns.barplot(x=na_genres_list.index,y=na_genres_list['na_sales'])\n",
    "plt.title(\"Продажи по жанрам в Северной Америке\")\n",
    "plt.xlabel(\"Жанр\")\n",
    "plt.ylabel(\"Количество продаж\")"
   ]
  },
  {
   "cell_type": "code",
   "execution_count": 33,
   "metadata": {},
   "outputs": [
    {
     "data": {
      "text/plain": [
       "Text(0, 0.5, 'Количество продаж')"
      ]
     },
     "execution_count": 33,
     "metadata": {},
     "output_type": "execute_result"
    },
    {
     "data": {
      "image/png": "[encoded data removed]",
      "text/plain": [
       "<Figure size 1080x360 with 1 Axes>"
      ]
     },
     "metadata": {
      "needs_background": "light"
     },
     "output_type": "display_data"
    }
   ],
   "source": [
    "na_rating_list = df.pivot_table(index='rating', \n",
    "                                values='na_sales', \n",
    "                                aggfunc='sum').sort_values(by='na_sales', \n",
    "                                                           ascending=False)\n",
    "\n",
    "plt.figure(figsize=(15,5))\n",
    "sns.barplot(x=na_rating_list.index,y=na_rating_list['na_sales'])\n",
    "plt.title(\"Влияние рейтинга ESRB на продажи в Северной Америке\")\n",
    "plt.xlabel(\"Рейтинг ESRB\")\n",
    "plt.ylabel(\"Количество продаж\")"
   ]
  },
  {
   "cell_type": "markdown",
   "metadata": {},
   "source": [
    "Портрет пользователя в Северной Америке:\n",
    "- любимая платформа X360, PS3, Wii, PS4, XOne\n",
    "- любимые жанры: Action, Shooter, Sports, Misc, Role Playing\n",
    "- любимые игры для взрослых и для всех. Рейтинг ESRB влияет на продажи."
   ]
  },
  {
   "cell_type": "markdown",
   "metadata": {},
   "source": [
    "#### Анализ пользователей в Европе"
   ]
  },
  {
   "cell_type": "markdown",
   "metadata": {},
   "source": [
    "Изучим продажи в Европе."
   ]
  },
  {
   "cell_type": "code",
   "execution_count": 34,
   "metadata": {},
   "outputs": [
    {
     "data": {
      "text/plain": [
       "Text(0, 0.5, 'Количество продаж')"
      ]
     },
     "execution_count": 34,
     "metadata": {},
     "output_type": "execute_result"
    },
    {
     "data": {
      "image/png": "[encoded data removed]",
      "text/plain": [
       "<Figure size 1080x360 with 1 Axes>"
      ]
     },
     "metadata": {
      "needs_background": "light"
     },
     "output_type": "display_data"
    }
   ],
   "source": [
    "eu_sales_list = df.pivot_table(index='platform', \n",
    "                                values='eu_sales', \n",
    "                                aggfunc='sum').sort_values(by='eu_sales', \n",
    "                                                           ascending=False)\n",
    "\n",
    "plt.figure(figsize=(15,5))\n",
    "sns.barplot(x=eu_sales_list.index,y=eu_sales_list['eu_sales'])\n",
    "plt.title(\"Продажи по платформам в Европе\")\n",
    "plt.xlabel(\"Платформа\")\n",
    "plt.ylabel(\"Количество продаж\")"
   ]
  },
  {
   "cell_type": "code",
   "execution_count": 35,
   "metadata": {
    "scrolled": true
   },
   "outputs": [
    {
     "data": {
      "text/plain": [
       "Text(0, 0.5, 'Количество продаж')"
      ]
     },
     "execution_count": 35,
     "metadata": {},
     "output_type": "execute_result"
    },
    {
     "data": {
      "image/png": "[encoded data removed]",
      "text/plain": [
       "<Figure size 1080x360 with 1 Axes>"
      ]
     },
     "metadata": {
      "needs_background": "light"
     },
     "output_type": "display_data"
    }
   ],
   "source": [
    "eu_genres_list = df.pivot_table(index='genre', \n",
    "                                values='eu_sales', \n",
    "                                aggfunc='sum').sort_values(by='eu_sales', \n",
    "                                                           ascending=False)\n",
    "\n",
    "plt.figure(figsize=(15,5))\n",
    "sns.barplot(x=eu_genres_list.index,y=eu_genres_list['eu_sales'])\n",
    "plt.title(\"Продажи по жанрам в Европе\")\n",
    "plt.xlabel(\"Жанр\")\n",
    "plt.ylabel(\"Количество продаж\")"
   ]
  },
  {
   "cell_type": "code",
   "execution_count": 36,
   "metadata": {
    "scrolled": true
   },
   "outputs": [
    {
     "data": {
      "text/plain": [
       "Text(0, 0.5, 'Количество продаж')"
      ]
     },
     "execution_count": 36,
     "metadata": {},
     "output_type": "execute_result"
    },
    {
     "data": {
      "image/png": "[encoded data removed]",
      "text/plain": [
       "<Figure size 1080x360 with 1 Axes>"
      ]
     },
     "metadata": {
      "needs_background": "light"
     },
     "output_type": "display_data"
    }
   ],
   "source": [
    "eu_rating_list = df.pivot_table(index='rating', \n",
    "                                values='eu_sales', \n",
    "                                aggfunc='sum').sort_values(by='eu_sales', \n",
    "                                                           ascending=False)\n",
    "\n",
    "plt.figure(figsize=(15,5))\n",
    "sns.barplot(x=eu_rating_list.index,y=eu_rating_list['eu_sales'])\n",
    "plt.title(\"Влияние рейтинга ESRB на продажи в Европе\")\n",
    "plt.xlabel(\"Рейтинг ESRB\")\n",
    "plt.ylabel(\"Количество продаж\")"
   ]
  },
  {
   "cell_type": "markdown",
   "metadata": {},
   "source": [
    "Портрет пользователя в Европе не отличается от портрета в Америке:\n",
    "- любимая платформа PS4, XOne, PS3, PC, 3DS\n",
    "- любимые жанры: Action, Shooter, Sports, Role-Playing, Racing\n",
    "- любимые игры для взрослых и для всех. Рейтинг влияет на продажи."
   ]
  },
  {
   "cell_type": "markdown",
   "metadata": {},
   "source": [
    "#### Анализ пользователей в Японии"
   ]
  },
  {
   "cell_type": "markdown",
   "metadata": {},
   "source": [
    "Изучим продажи в Японии."
   ]
  },
  {
   "cell_type": "code",
   "execution_count": 37,
   "metadata": {},
   "outputs": [
    {
     "data": {
      "text/plain": [
       "Text(0, 0.5, 'Количество продаж')"
      ]
     },
     "execution_count": 37,
     "metadata": {},
     "output_type": "execute_result"
    },
    {
     "data": {
      "image/png": "[encoded data removed]",
      "text/plain": [
       "<Figure size 1080x360 with 1 Axes>"
      ]
     },
     "metadata": {
      "needs_background": "light"
     },
     "output_type": "display_data"
    }
   ],
   "source": [
    "jp_sales_list = df.pivot_table(index='platform', \n",
    "                                values='jp_sales', \n",
    "                                aggfunc='sum').sort_values(by='jp_sales', \n",
    "                                                           ascending=False)\n",
    "\n",
    "plt.figure(figsize=(15,5))\n",
    "sns.barplot(x=jp_sales_list.index,y=jp_sales_list['jp_sales'])\n",
    "plt.title('Продажи по платформам в Японии')\n",
    "plt.xlabel('Платформа')\n",
    "plt.ylabel('Количество продаж')"
   ]
  },
  {
   "cell_type": "code",
   "execution_count": 38,
   "metadata": {
    "scrolled": true
   },
   "outputs": [
    {
     "data": {
      "text/plain": [
       "Text(0, 0.5, 'Количество продаж')"
      ]
     },
     "execution_count": 38,
     "metadata": {},
     "output_type": "execute_result"
    },
    {
     "data": {
      "image/png": "[encoded data removed]",
      "text/plain": [
       "<Figure size 1080x360 with 1 Axes>"
      ]
     },
     "metadata": {
      "needs_background": "light"
     },
     "output_type": "display_data"
    }
   ],
   "source": [
    "jp_genres_list = df.pivot_table(index='genre', \n",
    "                                values='jp_sales', \n",
    "                                aggfunc='sum').sort_values(by='jp_sales', \n",
    "                                                           ascending=False)\n",
    "\n",
    "plt.figure(figsize=(15,5))\n",
    "sns.barplot(x=jp_genres_list.index,y=jp_genres_list['jp_sales'])\n",
    "plt.title(\"Продажи по жанрам в Японии\")\n",
    "plt.xlabel(\"Жанр\")\n",
    "plt.ylabel(\"Количество продаж\")"
   ]
  },
  {
   "cell_type": "code",
   "execution_count": 39,
   "metadata": {
    "scrolled": true
   },
   "outputs": [
    {
     "data": {
      "text/plain": [
       "Text(0, 0.5, 'Количество продаж')"
      ]
     },
     "execution_count": 39,
     "metadata": {},
     "output_type": "execute_result"
    },
    {
     "data": {
      "image/png": "[encoded data removed]",
      "text/plain": [
       "<Figure size 1080x360 with 1 Axes>"
      ]
     },
     "metadata": {
      "needs_background": "light"
     },
     "output_type": "display_data"
    }
   ],
   "source": [
    "jp_rating_list = df.pivot_table(index='rating', \n",
    "                                values='jp_sales', \n",
    "                                aggfunc='sum').sort_values(by='jp_sales', \n",
    "                                                           ascending=False)\n",
    "\n",
    "plt.figure(figsize=(15,5))\n",
    "sns.barplot(x=jp_rating_list.index,y=jp_rating_list['jp_sales'])\n",
    "plt.title(\"Влияние рейтинга ESRB на продажи в Японии\")\n",
    "plt.xlabel(\"Рейтинг ESRB\")\n",
    "plt.ylabel(\"Количество продаж\")"
   ]
  },
  {
   "cell_type": "markdown",
   "metadata": {},
   "source": [
    "Совсем иначе выглядит портрет пользователя в Японии:\n",
    "- любимая платформа  3DS, PS4, PSP, WiiU, PSV\n",
    "- любимые жанры: Role Playing, Action, Fighting, Misc, Shooter\n",
    "- любимые игры для всех и для подростков. Но в Японии очень много пропусков в этом столбце, поэтому выводы могут быть неверными. Возможно Япония не всегда использует этот рейтинг в своей игровой индустрии."
   ]
  },
  {
   "cell_type": "markdown",
   "metadata": {},
   "source": [
    "### Проверка гипотез"
   ]
  },
  {
   "cell_type": "markdown",
   "metadata": {},
   "source": [
    "#### Гипотеза 1"
   ]
  },
  {
   "cell_type": "markdown",
   "metadata": {},
   "source": [
    "Нулевая гипотеза H₀: средние пользовательские рейтинги платформ Xbox One и PC одинаковые.\n",
    "\n",
    "Альтернативная H₁: средние пользовательские рейтинги платформ Xbox One и PC разные.\n",
    "\n",
    "Проверим гипотезу. "
   ]
  },
  {
   "cell_type": "code",
   "execution_count": 40,
   "metadata": {},
   "outputs": [
    {
     "name": "stdout",
     "output_type": "stream",
     "text": [
      "6.594545454545454\n",
      "6.298360655737704\n"
     ]
    }
   ],
   "source": [
    "xone = df[df['platform']=='XOne']['user_score']\n",
    "pc = df[df['platform']=='PC']['user_score']\n",
    "print(xone.mean())\n",
    "print(pc.mean())"
   ]
  },
  {
   "cell_type": "code",
   "execution_count": 41,
   "metadata": {},
   "outputs": [
    {
     "name": "stdout",
     "output_type": "stream",
     "text": [
      "p-значение: 0.11601398086668832\n",
      "Не получилось отвергнуть нулевую гипотезу\n"
     ]
    }
   ],
   "source": [
    "alpha = .02 # критический уровень статистической значимости\n",
    "# если p-value окажется меньше него - отвергнем гипотезу\n",
    "\n",
    "results = st.ttest_ind(\n",
    "    xone.dropna(), \n",
    "    pc.dropna(), \n",
    "    equal_var=False)\n",
    "\n",
    "print('p-значение:', results.pvalue)\n",
    "\n",
    "if results.pvalue < alpha:\n",
    "    print(\"Отвергаем нулевую гипотезу\")\n",
    "else:\n",
    "    print(\"Не получилось отвергнуть нулевую гипотезу\") "
   ]
  },
  {
   "cell_type": "markdown",
   "metadata": {},
   "source": [
    "**Вывод**\n",
    "\n",
    "Не удалось отвергнуть нулевую гипотезу, а значит средние пользовательские рейтинги платформ Xbox One и PC одинаковые или очень близки. "
   ]
  },
  {
   "cell_type": "markdown",
   "metadata": {},
   "source": [
    "#### Гипотеза 2"
   ]
  },
  {
   "cell_type": "markdown",
   "metadata": {},
   "source": [
    "Нулевая гипотеза H₀: средние пользовательские рейтинги жанров Action (англ. «действие», экшен-игры) и Sports (англ. «спортивные соревнования») одинаковые.\n",
    "\n",
    "Альтернативная гипотеза: H₁: средние пользовательские рейтинги жанров Action и Sports разные."
   ]
  },
  {
   "cell_type": "code",
   "execution_count": 42,
   "metadata": {},
   "outputs": [
    {
     "name": "stdout",
     "output_type": "stream",
     "text": [
      "6.760606060606061\n",
      "5.225196850393701\n"
     ]
    }
   ],
   "source": [
    "action = df[df['genre']=='Action']['user_score']\n",
    "sports = df[df['genre']=='Sports']['user_score']\n",
    "print(action.mean())\n",
    "print(sports.mean())"
   ]
  },
  {
   "cell_type": "code",
   "execution_count": 43,
   "metadata": {},
   "outputs": [
    {
     "name": "stdout",
     "output_type": "stream",
     "text": [
      "p-значение: 1.1825550382644557e-14\n",
      "Отвергаем нулевую гипотезу\n"
     ]
    }
   ],
   "source": [
    "alpha = .02 # критический уровень статистической значимости\n",
    "# если p-value окажется меньше него - отвергнем гипотезу\n",
    "\n",
    "results = st.ttest_ind(\n",
    "    action.dropna(), \n",
    "    sports.dropna(), \n",
    "    equal_var=False)\n",
    "\n",
    "print('p-значение:', results.pvalue)\n",
    "\n",
    "if results.pvalue < alpha:\n",
    "    print(\"Отвергаем нулевую гипотезу\")\n",
    "else:\n",
    "    print(\"Не получилось отвергнуть нулевую гипотезу\") "
   ]
  },
  {
   "cell_type": "markdown",
   "metadata": {},
   "source": [
    "**Вывод**\n",
    "\n",
    "Отвергаем нулевую гипотезу, таким образом, у нас практически нет шансов получить одинаковый рейтинг по двум жанрам. "
   ]
  },
  {
   "cell_type": "markdown",
   "metadata": {},
   "source": [
    "### Общий вывод"
   ]
  },
  {
   "cell_type": "markdown",
   "metadata": {},
   "source": [
    "Проводилось исследование, цель которого анализ рынка игр и выявление закономерностей, которые позволят определить успешность игры. Данные будут использованы для рекламной кампании на следующий год. Для исследования взяты исторические данные о продажах игр, оценки пользователей и экспертов, жанры и платформы. \n",
    "\n",
    "**Исследование предусматривает несколько этапов:**\n",
    "\n",
    "- предобработка данных (заполнение пропусков и выявление аномалий)\n",
    "- проведение исследовательского анализа данных\n",
    "- составление портрета пользователя каждого региона \n",
    "- проверка гипотез \n",
    "\n",
    "**1. Предобработка данных**\n",
    "\n",
    "В предобработке данных я привела названия столбцов к нижнему регистру, заполнила пропуски, где это возможно, изменила тип данных в столбцах year_of_release, critic_score, user_score. Другие стобцы я не трогала, так как тип данных там задан верно. Явные дубликаты не были найдены. Также был добавлен столбцец с суммарными продажами во всех регионах по каждой игре. \n",
    "\n",
    "**2. Иследовательский анализ данных**\n",
    "\n",
    "В результате анализа, было выявлено, что в 80-ых - 00-ые культура игр только зарождалась, но даже на небольших данных заметно, что уже тогда игры имели потенциал для развития. Начиная с 2000-ых начался  заметный рост, что логично, так как технологии начали быстро развиваться. Пик производства игр приходится на 2008 и 2009 года. Позже идет спад, который связан возможно с появлением мобильных платформ iOS и Android и развитием мобильных игр.\n",
    "\n",
    "Средний период жизни платформы 7-8 лет, после чего продажи идут на спад. Это важно учесть при выборе платформы для разработки игры. \n",
    "\n",
    "Популярность набирают такие платформы, как: PS4 и xOne. Это потенциально прибыльные платформы на 2017 год.\n",
    "\n",
    "Изучив подробно графики, можно сделать вывод, что для дальнейшего анализа нам не нужны очень старые данные, поэтому мы сократили датасет и оставим все начиная с 2014 года.\n",
    "\n",
    "Я сделала график \"ящик с усами\", который показал что медианное значение продаж у всех платформ разное. Продаж больше всего у x360 и Xone, далее идет x360. И меньше всего продаж у и 3DS, это довольно новая платформа, которая просто уступает своим конкурентам. Также мало продаж и у PS3, это объясняется тем, что это уже довольно старая платформа, а мы рассматриваем данные начиная с 2014.\n",
    "PS4 - самая новая и только набирает популярность. PS3 передает лидерство более новой приставке PS4, такжеи с x360 и XOne, если взять еще более свежие данные для анализа.\n",
    "\n",
    "Основной вывод, который можно сделать, глядя на все графики, что взаимосвязь отзывов и продаж хоть и не сильная, но есть. В большей мере на продажи влияют отзывы критиков. А связь между оценками пользователей и продажами слабая у всех платформ, либо её совсем нет. Поэтому можно сделать выводы, что пользователи чаще прислушиваются критиков, чем других игроков.\n",
    "\n",
    "Наиболее популярные жанры: Action, Shooter, Sports, Role-Playing, Misc. На последнем месте стратегии и пазлы. на первых местах игры, которые требуют больше ресурсов для их создания. Ситуация с медианными зачениями выглядят немного иначе: выделяется Shooter (0.51), дальше идет Sports и Platform. При создании новой игры или рекламной кампании я бы обратила внимание на Shooter и Sports.\n",
    "\n",
    "**3. Составление портрета пользователей по регионам**\n",
    "\n",
    "Портрет пользователя в Северной Америке:\n",
    "\n",
    "- любимая платформа X360, PS3, Wii, PS4, XOne\n",
    "- любимые жанры: Action, Shooter, Sports, Misc, Role Playing\n",
    "- любимые игры для взрослых и для всех. Рейтинг ESRB влияет на продажи.\n",
    "\n",
    "Портрет пользователя в Европе не отличается от портрета в Америке:\n",
    "\n",
    "- любимая платформа PS4, XOne, PS3, PC, 3DS\n",
    "- любимые жанры: Action, Shooter, Sports, Role-Playing, Racing\n",
    "- любимые игры для взрослых и для всех. Рейтинг влияет на продажи.\n",
    "\n",
    "Совсем иначе выглядит портрет пользователя в Японии:\n",
    "\n",
    "- любимая платформа 3DS, PS4, PSP, WiiU, PSV\n",
    "- любимые жанры: Role Playing, Action, Fighting, Misc, Shooter\n",
    "- любимые игры для всех и для подростков. Но в Японии очень много пропусков в этом столбце, поэтому выводы могут быть неверными. Возможно Япония не всегда использует этот рейтинг в своей игровой индустрии.\n",
    "\n",
    "**4. Проверка гипотез**\n",
    "\n",
    "Я проверяла две гипотезы. Одна из которых подвердилась.\n",
    "\n",
    "- Гипотеза 1.\n",
    "\n",
    "Нулевая гипотеза H₀: средние пользовательские рейтинги платформ Xbox One и PC одинаковые.\n",
    "\n",
    "Альтернативная H₁: средние пользовательские рейтинги платформ Xbox One и PC разные.\n",
    "\n",
    "Не удалось отвергнуть нулевую гипотезу, а значит средние пользовательские рейтинги платформ Xbox One и PC одинаковые или очень близки.\n",
    "\n",
    "- Гипотеза 2.\n",
    "\n",
    "Нулевая гипотеза H₀: средние пользовательские рейтинги жанров Action (англ. «действие», экшен-игры) и Sports (англ. «спортивные соревнования») одинаковые.\n",
    "\n",
    "Альтернативная гипотеза: H₁: средние пользовательские рейтинги жанров Action и Sports разные.\n",
    "\n",
    "Отвергаем нулевую гипотезу, таким образом, у нас практически нет шансов получить одинаковый рейтинг по двум жанрам\n",
    "\n",
    "На основе всех выводов, мы можем выбрать наиболее перспективные платфомы, жанры, регионы для запуска рекламной кампании в 2017 году. "
   ]
  }
 ],
 "metadata": {
  "ExecuteTimeLog": [
   {
    "duration": 853,
    "start_time": "2022-12-26T22:10:49.001Z"
   },
   {
    "duration": 190,
    "start_time": "2022-12-26T22:11:36.105Z"
   },
   {
    "duration": 59,
    "start_time": "2022-12-26T22:11:50.170Z"
   },
   {
    "duration": 14,
    "start_time": "2022-12-26T22:12:49.554Z"
   },
   {
    "duration": 760,
    "start_time": "2022-12-26T22:13:18.759Z"
   },
   {
    "duration": 845,
    "start_time": "2022-12-26T22:13:29.554Z"
   },
   {
    "duration": 72,
    "start_time": "2022-12-26T22:18:18.608Z"
   },
   {
    "duration": 8,
    "start_time": "2022-12-26T22:18:28.910Z"
   },
   {
    "duration": 9,
    "start_time": "2022-12-26T22:19:01.714Z"
   },
   {
    "duration": 9,
    "start_time": "2022-12-26T22:19:28.683Z"
   },
   {
    "duration": 11,
    "start_time": "2022-12-26T22:19:38.460Z"
   },
   {
    "duration": 12,
    "start_time": "2022-12-26T22:20:08.321Z"
   },
   {
    "duration": 17,
    "start_time": "2022-12-26T22:22:43.250Z"
   },
   {
    "duration": 15,
    "start_time": "2022-12-26T22:23:00.489Z"
   },
   {
    "duration": 14,
    "start_time": "2022-12-26T22:24:06.245Z"
   },
   {
    "duration": 12,
    "start_time": "2022-12-26T22:24:16.528Z"
   },
   {
    "duration": 13,
    "start_time": "2022-12-26T22:28:27.772Z"
   },
   {
    "duration": 14,
    "start_time": "2022-12-26T22:28:52.193Z"
   },
   {
    "duration": 13,
    "start_time": "2022-12-26T22:29:17.802Z"
   },
   {
    "duration": 12,
    "start_time": "2022-12-26T22:31:59.136Z"
   },
   {
    "duration": 7,
    "start_time": "2022-12-26T22:32:08.757Z"
   },
   {
    "duration": 20,
    "start_time": "2022-12-26T22:32:19.937Z"
   },
   {
    "duration": 3,
    "start_time": "2022-12-26T22:33:43.423Z"
   },
   {
    "duration": 13,
    "start_time": "2022-12-26T22:34:35.557Z"
   },
   {
    "duration": 11,
    "start_time": "2022-12-26T22:41:52.996Z"
   },
   {
    "duration": 9,
    "start_time": "2022-12-26T22:44:42.207Z"
   },
   {
    "duration": 13,
    "start_time": "2022-12-26T22:44:54.426Z"
   },
   {
    "duration": 15,
    "start_time": "2022-12-26T22:45:58.972Z"
   },
   {
    "duration": 15,
    "start_time": "2022-12-26T22:46:08.076Z"
   },
   {
    "duration": 15,
    "start_time": "2022-12-26T22:46:24.775Z"
   },
   {
    "duration": 20,
    "start_time": "2022-12-26T22:47:25.113Z"
   },
   {
    "duration": 308,
    "start_time": "2022-12-26T22:49:36.175Z"
   },
   {
    "duration": 18,
    "start_time": "2022-12-26T22:49:51.045Z"
   },
   {
    "duration": 21,
    "start_time": "2022-12-26T22:50:03.595Z"
   },
   {
    "duration": 22,
    "start_time": "2022-12-26T22:51:01.964Z"
   },
   {
    "duration": 21,
    "start_time": "2022-12-26T22:51:43.955Z"
   },
   {
    "duration": 20,
    "start_time": "2022-12-26T22:51:56.798Z"
   },
   {
    "duration": 16,
    "start_time": "2022-12-26T22:52:03.234Z"
   },
   {
    "duration": 23,
    "start_time": "2022-12-26T22:52:08.607Z"
   },
   {
    "duration": 31,
    "start_time": "2022-12-26T22:52:15.615Z"
   },
   {
    "duration": 621,
    "start_time": "2022-12-26T22:52:26.528Z"
   },
   {
    "duration": 57,
    "start_time": "2022-12-26T22:52:27.151Z"
   },
   {
    "duration": 12,
    "start_time": "2022-12-26T22:52:27.210Z"
   },
   {
    "duration": 24,
    "start_time": "2022-12-26T22:52:27.224Z"
   },
   {
    "duration": 11,
    "start_time": "2022-12-26T22:52:27.249Z"
   },
   {
    "duration": 23,
    "start_time": "2022-12-26T22:52:27.261Z"
   },
   {
    "duration": 18,
    "start_time": "2022-12-26T22:52:27.286Z"
   },
   {
    "duration": 32,
    "start_time": "2022-12-26T22:52:27.305Z"
   },
   {
    "duration": 14,
    "start_time": "2022-12-26T22:54:24.538Z"
   },
   {
    "duration": 609,
    "start_time": "2022-12-26T22:54:36.091Z"
   },
   {
    "duration": 70,
    "start_time": "2022-12-26T22:54:36.702Z"
   },
   {
    "duration": 15,
    "start_time": "2022-12-26T22:54:36.775Z"
   },
   {
    "duration": 27,
    "start_time": "2022-12-26T22:54:36.791Z"
   },
   {
    "duration": 35,
    "start_time": "2022-12-26T22:54:36.820Z"
   },
   {
    "duration": 70,
    "start_time": "2022-12-26T22:54:36.857Z"
   },
   {
    "duration": 29,
    "start_time": "2022-12-26T22:54:36.929Z"
   },
   {
    "duration": 27,
    "start_time": "2022-12-26T22:54:36.959Z"
   },
   {
    "duration": 72,
    "start_time": "2022-12-26T22:55:00.843Z"
   },
   {
    "duration": 10,
    "start_time": "2022-12-26T22:56:27.506Z"
   },
   {
    "duration": 4,
    "start_time": "2022-12-26T22:59:36.974Z"
   },
   {
    "duration": 1164,
    "start_time": "2022-12-26T23:00:40.746Z"
   },
   {
    "duration": 6,
    "start_time": "2022-12-26T23:00:49.219Z"
   },
   {
    "duration": 7,
    "start_time": "2022-12-26T23:02:57.933Z"
   },
   {
    "duration": 16,
    "start_time": "2022-12-26T23:05:18.399Z"
   },
   {
    "duration": 5,
    "start_time": "2022-12-26T23:08:20.031Z"
   },
   {
    "duration": 86,
    "start_time": "2022-12-26T23:09:08.547Z"
   },
   {
    "duration": 77,
    "start_time": "2022-12-26T23:09:13.798Z"
   },
   {
    "duration": 71,
    "start_time": "2022-12-26T23:14:22.067Z"
   },
   {
    "duration": 15,
    "start_time": "2022-12-26T23:17:28.729Z"
   },
   {
    "duration": 17,
    "start_time": "2022-12-26T23:17:31.596Z"
   },
   {
    "duration": 15,
    "start_time": "2022-12-26T23:18:19.126Z"
   },
   {
    "duration": 20,
    "start_time": "2022-12-26T23:18:29.490Z"
   },
   {
    "duration": 19,
    "start_time": "2022-12-26T23:18:49.125Z"
   },
   {
    "duration": 16,
    "start_time": "2022-12-26T23:19:41.401Z"
   },
   {
    "duration": 5,
    "start_time": "2022-12-26T23:20:27.638Z"
   },
   {
    "duration": 7,
    "start_time": "2022-12-26T23:20:29.147Z"
   },
   {
    "duration": 14,
    "start_time": "2022-12-26T23:20:29.805Z"
   },
   {
    "duration": 16,
    "start_time": "2022-12-26T23:20:30.196Z"
   },
   {
    "duration": 11,
    "start_time": "2022-12-26T23:20:44.045Z"
   },
   {
    "duration": 643,
    "start_time": "2022-12-26T23:20:55.522Z"
   },
   {
    "duration": 57,
    "start_time": "2022-12-26T23:20:56.166Z"
   },
   {
    "duration": 14,
    "start_time": "2022-12-26T23:20:56.225Z"
   },
   {
    "duration": 21,
    "start_time": "2022-12-26T23:20:56.241Z"
   },
   {
    "duration": 17,
    "start_time": "2022-12-26T23:20:56.264Z"
   },
   {
    "duration": 36,
    "start_time": "2022-12-26T23:20:56.283Z"
   },
   {
    "duration": 14,
    "start_time": "2022-12-26T23:20:56.321Z"
   },
   {
    "duration": 20,
    "start_time": "2022-12-26T23:20:56.337Z"
   },
   {
    "duration": 19,
    "start_time": "2022-12-26T23:20:56.359Z"
   },
   {
    "duration": 28,
    "start_time": "2022-12-26T23:20:56.381Z"
   },
   {
    "duration": 17,
    "start_time": "2022-12-26T23:20:56.411Z"
   },
   {
    "duration": 1228,
    "start_time": "2022-12-26T23:24:36.411Z"
   },
   {
    "duration": 9,
    "start_time": "2022-12-26T23:35:03.445Z"
   },
   {
    "duration": 1194,
    "start_time": "2022-12-26T23:37:13.469Z"
   },
   {
    "duration": 4,
    "start_time": "2022-12-26T23:37:24.888Z"
   },
   {
    "duration": 16,
    "start_time": "2022-12-26T23:37:36.846Z"
   },
   {
    "duration": 22,
    "start_time": "2022-12-26T23:40:00.172Z"
   },
   {
    "duration": 623,
    "start_time": "2022-12-26T23:40:22.490Z"
   },
   {
    "duration": 60,
    "start_time": "2022-12-26T23:40:23.115Z"
   },
   {
    "duration": 15,
    "start_time": "2022-12-26T23:40:23.177Z"
   },
   {
    "duration": 28,
    "start_time": "2022-12-26T23:40:23.193Z"
   },
   {
    "duration": 30,
    "start_time": "2022-12-26T23:40:23.224Z"
   },
   {
    "duration": 25,
    "start_time": "2022-12-26T23:40:23.256Z"
   },
   {
    "duration": 5,
    "start_time": "2022-12-26T23:40:23.283Z"
   },
   {
    "duration": 9,
    "start_time": "2022-12-26T23:40:23.289Z"
   },
   {
    "duration": 13,
    "start_time": "2022-12-26T23:40:23.300Z"
   },
   {
    "duration": 31,
    "start_time": "2022-12-26T23:40:23.315Z"
   },
   {
    "duration": 15,
    "start_time": "2022-12-26T23:40:23.347Z"
   },
   {
    "duration": 16,
    "start_time": "2022-12-26T23:40:23.364Z"
   },
   {
    "duration": 86,
    "start_time": "2022-12-26T23:43:16.916Z"
   },
   {
    "duration": 48,
    "start_time": "2022-12-26T23:43:39.509Z"
   },
   {
    "duration": 36,
    "start_time": "2022-12-26T23:44:22.681Z"
   },
   {
    "duration": 649,
    "start_time": "2022-12-26T23:44:38.733Z"
   },
   {
    "duration": 61,
    "start_time": "2022-12-26T23:44:39.384Z"
   },
   {
    "duration": 12,
    "start_time": "2022-12-26T23:44:39.447Z"
   },
   {
    "duration": 17,
    "start_time": "2022-12-26T23:44:39.461Z"
   },
   {
    "duration": 44,
    "start_time": "2022-12-26T23:44:39.480Z"
   },
   {
    "duration": 33,
    "start_time": "2022-12-26T23:44:39.527Z"
   },
   {
    "duration": 5,
    "start_time": "2022-12-26T23:44:39.562Z"
   },
   {
    "duration": 11,
    "start_time": "2022-12-26T23:44:39.568Z"
   },
   {
    "duration": 14,
    "start_time": "2022-12-26T23:44:39.581Z"
   },
   {
    "duration": 22,
    "start_time": "2022-12-26T23:44:39.597Z"
   },
   {
    "duration": 20,
    "start_time": "2022-12-26T23:44:39.632Z"
   },
   {
    "duration": 17,
    "start_time": "2022-12-26T23:44:39.654Z"
   },
   {
    "duration": 118,
    "start_time": "2022-12-26T23:44:39.672Z"
   },
   {
    "duration": 206,
    "start_time": "2022-12-26T23:45:02.438Z"
   },
   {
    "duration": 179,
    "start_time": "2022-12-26T23:45:12.644Z"
   },
   {
    "duration": 187,
    "start_time": "2022-12-26T23:45:20.904Z"
   },
   {
    "duration": 73,
    "start_time": "2022-12-26T23:48:04.894Z"
   },
   {
    "duration": 189,
    "start_time": "2022-12-26T23:49:43.919Z"
   },
   {
    "duration": 16,
    "start_time": "2022-12-26T23:52:58.565Z"
   },
   {
    "duration": 29,
    "start_time": "2022-12-26T23:53:47.006Z"
   },
   {
    "duration": 15,
    "start_time": "2022-12-26T23:58:44.318Z"
   },
   {
    "duration": 6,
    "start_time": "2022-12-26T23:59:03.461Z"
   },
   {
    "duration": 20,
    "start_time": "2022-12-26T23:59:12.801Z"
   },
   {
    "duration": 18,
    "start_time": "2022-12-26T23:59:55.049Z"
   },
   {
    "duration": 70,
    "start_time": "2022-12-27T00:01:29.439Z"
   },
   {
    "duration": 268,
    "start_time": "2022-12-27T00:02:01.438Z"
   },
   {
    "duration": 177,
    "start_time": "2022-12-27T00:02:37.267Z"
   },
   {
    "duration": 179,
    "start_time": "2022-12-27T00:02:47.184Z"
   },
   {
    "duration": 3,
    "start_time": "2022-12-27T00:04:34.867Z"
   },
   {
    "duration": 11,
    "start_time": "2022-12-27T00:04:42.223Z"
   },
   {
    "duration": 18,
    "start_time": "2022-12-27T00:04:52.172Z"
   },
   {
    "duration": 73,
    "start_time": "2022-12-27T00:09:40.448Z"
   },
   {
    "duration": 630,
    "start_time": "2022-12-27T00:10:36.801Z"
   },
   {
    "duration": 601,
    "start_time": "2022-12-27T00:10:53.238Z"
   },
   {
    "duration": 718,
    "start_time": "2022-12-27T00:11:01.505Z"
   },
   {
    "duration": 55,
    "start_time": "2022-12-27T11:22:42.116Z"
   },
   {
    "duration": 0,
    "start_time": "2022-12-27T11:23:11.082Z"
   },
   {
    "duration": 0,
    "start_time": "2022-12-27T11:23:11.083Z"
   },
   {
    "duration": 0,
    "start_time": "2022-12-27T11:23:11.085Z"
   },
   {
    "duration": 0,
    "start_time": "2022-12-27T11:23:11.086Z"
   },
   {
    "duration": 0,
    "start_time": "2022-12-27T11:23:11.087Z"
   },
   {
    "duration": 0,
    "start_time": "2022-12-27T11:23:11.089Z"
   },
   {
    "duration": 0,
    "start_time": "2022-12-27T11:23:11.090Z"
   },
   {
    "duration": 0,
    "start_time": "2022-12-27T11:23:11.091Z"
   },
   {
    "duration": 0,
    "start_time": "2022-12-27T11:23:11.092Z"
   },
   {
    "duration": 0,
    "start_time": "2022-12-27T11:23:11.113Z"
   },
   {
    "duration": 0,
    "start_time": "2022-12-27T11:23:11.114Z"
   },
   {
    "duration": 0,
    "start_time": "2022-12-27T11:23:11.115Z"
   },
   {
    "duration": 0,
    "start_time": "2022-12-27T11:23:11.116Z"
   },
   {
    "duration": 0,
    "start_time": "2022-12-27T11:23:11.117Z"
   },
   {
    "duration": 0,
    "start_time": "2022-12-27T11:23:11.118Z"
   },
   {
    "duration": 3,
    "start_time": "2022-12-27T11:23:15.715Z"
   },
   {
    "duration": 56,
    "start_time": "2022-12-27T11:23:16.237Z"
   },
   {
    "duration": 13,
    "start_time": "2022-12-27T11:23:16.789Z"
   },
   {
    "duration": 13,
    "start_time": "2022-12-27T11:23:18.109Z"
   },
   {
    "duration": 12,
    "start_time": "2022-12-27T11:23:18.587Z"
   },
   {
    "duration": 22,
    "start_time": "2022-12-27T11:23:18.936Z"
   },
   {
    "duration": 4,
    "start_time": "2022-12-27T11:23:19.441Z"
   },
   {
    "duration": 7,
    "start_time": "2022-12-27T11:23:20.186Z"
   },
   {
    "duration": 24,
    "start_time": "2022-12-27T11:23:21.169Z"
   },
   {
    "duration": 22,
    "start_time": "2022-12-27T11:23:21.662Z"
   },
   {
    "duration": 5,
    "start_time": "2022-12-27T11:24:22.523Z"
   },
   {
    "duration": 7,
    "start_time": "2022-12-27T11:24:23.791Z"
   },
   {
    "duration": 5,
    "start_time": "2022-12-27T11:24:25.570Z"
   },
   {
    "duration": 20,
    "start_time": "2022-12-27T11:24:26.714Z"
   },
   {
    "duration": 13,
    "start_time": "2022-12-27T11:24:32.336Z"
   },
   {
    "duration": 17,
    "start_time": "2022-12-27T11:24:35.174Z"
   },
   {
    "duration": 195,
    "start_time": "2022-12-27T11:24:40.085Z"
   },
   {
    "duration": 16,
    "start_time": "2022-12-27T11:27:58.319Z"
   },
   {
    "duration": 17,
    "start_time": "2022-12-27T13:08:32.266Z"
   },
   {
    "duration": 529,
    "start_time": "2022-12-27T13:09:02.052Z"
   },
   {
    "duration": 1509,
    "start_time": "2022-12-27T13:09:24.872Z"
   },
   {
    "duration": 2314,
    "start_time": "2022-12-27T13:09:30.512Z"
   },
   {
    "duration": 33,
    "start_time": "2022-12-27T13:10:56.993Z"
   },
   {
    "duration": 24,
    "start_time": "2022-12-27T13:11:07.503Z"
   },
   {
    "duration": 2241,
    "start_time": "2022-12-27T13:11:47.056Z"
   },
   {
    "duration": 592,
    "start_time": "2022-12-27T13:25:10.811Z"
   },
   {
    "duration": 8,
    "start_time": "2022-12-27T13:25:26.815Z"
   },
   {
    "duration": 20,
    "start_time": "2022-12-27T13:26:30.493Z"
   },
   {
    "duration": 11,
    "start_time": "2022-12-27T13:32:25.192Z"
   },
   {
    "duration": 569,
    "start_time": "2022-12-27T13:32:44.960Z"
   },
   {
    "duration": 57,
    "start_time": "2022-12-27T13:32:45.531Z"
   },
   {
    "duration": 13,
    "start_time": "2022-12-27T13:32:45.589Z"
   },
   {
    "duration": 17,
    "start_time": "2022-12-27T13:32:45.604Z"
   },
   {
    "duration": 7,
    "start_time": "2022-12-27T13:32:45.623Z"
   },
   {
    "duration": 19,
    "start_time": "2022-12-27T13:32:45.632Z"
   },
   {
    "duration": 4,
    "start_time": "2022-12-27T13:32:45.653Z"
   },
   {
    "duration": 8,
    "start_time": "2022-12-27T13:32:45.658Z"
   },
   {
    "duration": 17,
    "start_time": "2022-12-27T13:32:45.668Z"
   },
   {
    "duration": 38,
    "start_time": "2022-12-27T13:32:45.687Z"
   },
   {
    "duration": 12,
    "start_time": "2022-12-27T13:32:45.727Z"
   },
   {
    "duration": 14,
    "start_time": "2022-12-27T13:32:45.740Z"
   },
   {
    "duration": 198,
    "start_time": "2022-12-27T13:32:45.756Z"
   },
   {
    "duration": 16,
    "start_time": "2022-12-27T13:32:45.956Z"
   },
   {
    "duration": 79,
    "start_time": "2022-12-27T13:32:45.973Z"
   },
   {
    "duration": 9,
    "start_time": "2022-12-27T13:35:08.672Z"
   },
   {
    "duration": 15,
    "start_time": "2022-12-27T13:35:17.088Z"
   },
   {
    "duration": 13,
    "start_time": "2022-12-27T13:35:34.860Z"
   },
   {
    "duration": 14,
    "start_time": "2022-12-27T13:39:43.733Z"
   },
   {
    "duration": 14,
    "start_time": "2022-12-27T13:40:11.964Z"
   },
   {
    "duration": 16,
    "start_time": "2022-12-27T13:43:42.107Z"
   },
   {
    "duration": 167,
    "start_time": "2022-12-27T13:44:57.994Z"
   },
   {
    "duration": 1127,
    "start_time": "2022-12-27T13:45:17.746Z"
   },
   {
    "duration": 1163,
    "start_time": "2022-12-27T13:45:40.010Z"
   },
   {
    "duration": 19,
    "start_time": "2022-12-27T13:46:02.939Z"
   },
   {
    "duration": 71,
    "start_time": "2022-12-27T13:46:20.921Z"
   },
   {
    "duration": 18,
    "start_time": "2022-12-27T13:47:02.585Z"
   },
   {
    "duration": 172,
    "start_time": "2022-12-27T13:47:17.294Z"
   },
   {
    "duration": 14,
    "start_time": "2022-12-27T13:49:37.677Z"
   },
   {
    "duration": 14,
    "start_time": "2022-12-27T13:49:49.412Z"
   },
   {
    "duration": 8,
    "start_time": "2022-12-27T13:53:42.295Z"
   },
   {
    "duration": 717,
    "start_time": "2022-12-27T13:53:46.797Z"
   },
   {
    "duration": 167,
    "start_time": "2022-12-27T13:53:58.608Z"
   },
   {
    "duration": 132,
    "start_time": "2022-12-27T13:54:03.533Z"
   },
   {
    "duration": 355,
    "start_time": "2022-12-27T13:55:16.448Z"
   },
   {
    "duration": 48,
    "start_time": "2022-12-27T14:04:36.936Z"
   },
   {
    "duration": 987,
    "start_time": "2022-12-27T14:05:08.036Z"
   },
   {
    "duration": 4,
    "start_time": "2022-12-27T14:17:12.590Z"
   },
   {
    "duration": 15,
    "start_time": "2022-12-27T14:17:20.658Z"
   },
   {
    "duration": 16,
    "start_time": "2022-12-27T14:17:54.758Z"
   },
   {
    "duration": 600,
    "start_time": "2022-12-27T14:18:03.640Z"
   },
   {
    "duration": 56,
    "start_time": "2022-12-27T14:18:04.243Z"
   },
   {
    "duration": 15,
    "start_time": "2022-12-27T14:18:04.301Z"
   },
   {
    "duration": 20,
    "start_time": "2022-12-27T14:18:04.317Z"
   },
   {
    "duration": 31,
    "start_time": "2022-12-27T14:18:04.339Z"
   },
   {
    "duration": 46,
    "start_time": "2022-12-27T14:18:04.371Z"
   },
   {
    "duration": 6,
    "start_time": "2022-12-27T14:18:04.418Z"
   },
   {
    "duration": 25,
    "start_time": "2022-12-27T14:18:04.425Z"
   },
   {
    "duration": 33,
    "start_time": "2022-12-27T14:18:04.451Z"
   },
   {
    "duration": 50,
    "start_time": "2022-12-27T14:18:04.485Z"
   },
   {
    "duration": 49,
    "start_time": "2022-12-27T14:18:04.537Z"
   },
   {
    "duration": 30,
    "start_time": "2022-12-27T14:18:04.587Z"
   },
   {
    "duration": 235,
    "start_time": "2022-12-27T14:18:04.619Z"
   },
   {
    "duration": 14,
    "start_time": "2022-12-27T14:18:04.856Z"
   },
   {
    "duration": 827,
    "start_time": "2022-12-27T14:18:04.872Z"
   },
   {
    "duration": 1028,
    "start_time": "2022-12-27T14:18:05.701Z"
   },
   {
    "duration": 15,
    "start_time": "2022-12-27T14:18:06.731Z"
   },
   {
    "duration": 4895,
    "start_time": "2022-12-27T14:20:07.130Z"
   },
   {
    "duration": 1216,
    "start_time": "2022-12-27T14:21:30.320Z"
   },
   {
    "duration": 5232,
    "start_time": "2022-12-27T14:21:49.007Z"
   },
   {
    "duration": 99,
    "start_time": "2022-12-27T14:38:44.834Z"
   },
   {
    "duration": 14,
    "start_time": "2022-12-27T14:46:47.463Z"
   },
   {
    "duration": 647,
    "start_time": "2022-12-27T14:47:32.421Z"
   },
   {
    "duration": 57,
    "start_time": "2022-12-27T14:47:33.069Z"
   },
   {
    "duration": 13,
    "start_time": "2022-12-27T14:47:33.128Z"
   },
   {
    "duration": 15,
    "start_time": "2022-12-27T14:47:33.143Z"
   },
   {
    "duration": 13,
    "start_time": "2022-12-27T14:47:33.160Z"
   },
   {
    "duration": 42,
    "start_time": "2022-12-27T14:47:33.175Z"
   },
   {
    "duration": 5,
    "start_time": "2022-12-27T14:47:33.218Z"
   },
   {
    "duration": 10,
    "start_time": "2022-12-27T14:47:33.224Z"
   },
   {
    "duration": 19,
    "start_time": "2022-12-27T14:47:33.235Z"
   },
   {
    "duration": 28,
    "start_time": "2022-12-27T14:47:33.256Z"
   },
   {
    "duration": 38,
    "start_time": "2022-12-27T14:47:33.286Z"
   },
   {
    "duration": 20,
    "start_time": "2022-12-27T14:47:33.326Z"
   },
   {
    "duration": 222,
    "start_time": "2022-12-27T14:47:33.348Z"
   },
   {
    "duration": 15,
    "start_time": "2022-12-27T14:47:33.573Z"
   },
   {
    "duration": 790,
    "start_time": "2022-12-27T14:47:33.591Z"
   },
   {
    "duration": 5063,
    "start_time": "2022-12-27T14:47:34.382Z"
   },
   {
    "duration": 16,
    "start_time": "2022-12-27T14:47:39.446Z"
   },
   {
    "duration": 11,
    "start_time": "2022-12-27T14:47:39.464Z"
   },
   {
    "duration": 14,
    "start_time": "2022-12-27T14:47:56.318Z"
   },
   {
    "duration": 14,
    "start_time": "2022-12-27T14:49:08.549Z"
   },
   {
    "duration": 3,
    "start_time": "2022-12-27T14:49:09.665Z"
   },
   {
    "duration": 823,
    "start_time": "2022-12-27T14:50:09.644Z"
   },
   {
    "duration": 98,
    "start_time": "2022-12-27T14:52:24.080Z"
   },
   {
    "duration": 21,
    "start_time": "2022-12-27T14:52:31.483Z"
   },
   {
    "duration": 15,
    "start_time": "2022-12-27T14:55:26.336Z"
   },
   {
    "duration": 251,
    "start_time": "2022-12-27T14:57:44.103Z"
   },
   {
    "duration": 11,
    "start_time": "2022-12-27T14:58:07.250Z"
   },
   {
    "duration": 14,
    "start_time": "2022-12-27T15:04:23.924Z"
   },
   {
    "duration": 296,
    "start_time": "2022-12-27T15:04:42.418Z"
   },
   {
    "duration": 9,
    "start_time": "2022-12-27T15:05:06.976Z"
   },
   {
    "duration": 629,
    "start_time": "2022-12-27T15:05:25.996Z"
   },
   {
    "duration": 56,
    "start_time": "2022-12-27T15:05:26.626Z"
   },
   {
    "duration": 13,
    "start_time": "2022-12-27T15:05:26.684Z"
   },
   {
    "duration": 15,
    "start_time": "2022-12-27T15:05:26.698Z"
   },
   {
    "duration": 8,
    "start_time": "2022-12-27T15:05:26.715Z"
   },
   {
    "duration": 22,
    "start_time": "2022-12-27T15:05:26.724Z"
   },
   {
    "duration": 4,
    "start_time": "2022-12-27T15:05:26.748Z"
   },
   {
    "duration": 11,
    "start_time": "2022-12-27T15:05:26.754Z"
   },
   {
    "duration": 21,
    "start_time": "2022-12-27T15:05:26.766Z"
   },
   {
    "duration": 37,
    "start_time": "2022-12-27T15:05:26.788Z"
   },
   {
    "duration": 12,
    "start_time": "2022-12-27T15:05:26.827Z"
   },
   {
    "duration": 14,
    "start_time": "2022-12-27T15:05:26.841Z"
   },
   {
    "duration": 215,
    "start_time": "2022-12-27T15:05:26.857Z"
   },
   {
    "duration": 14,
    "start_time": "2022-12-27T15:05:27.075Z"
   },
   {
    "duration": 787,
    "start_time": "2022-12-27T15:05:27.090Z"
   },
   {
    "duration": 5142,
    "start_time": "2022-12-27T15:05:27.879Z"
   },
   {
    "duration": 102,
    "start_time": "2022-12-27T15:05:33.023Z"
   },
   {
    "duration": 0,
    "start_time": "2022-12-27T15:05:33.127Z"
   },
   {
    "duration": 0,
    "start_time": "2022-12-27T15:05:33.128Z"
   },
   {
    "duration": 0,
    "start_time": "2022-12-27T15:05:33.130Z"
   },
   {
    "duration": 0,
    "start_time": "2022-12-27T15:05:33.131Z"
   },
   {
    "duration": 8,
    "start_time": "2022-12-27T15:06:06.822Z"
   },
   {
    "duration": 19,
    "start_time": "2022-12-27T15:06:12.784Z"
   },
   {
    "duration": 14,
    "start_time": "2022-12-27T15:06:15.822Z"
   },
   {
    "duration": 800,
    "start_time": "2022-12-27T15:07:10.714Z"
   },
   {
    "duration": 310,
    "start_time": "2022-12-27T15:09:24.643Z"
   },
   {
    "duration": 42,
    "start_time": "2022-12-27T15:09:33.314Z"
   },
   {
    "duration": 12,
    "start_time": "2022-12-27T15:10:46.887Z"
   },
   {
    "duration": 15,
    "start_time": "2022-12-27T15:11:02.341Z"
   },
   {
    "duration": 72,
    "start_time": "2022-12-27T15:12:27.245Z"
   },
   {
    "duration": 12,
    "start_time": "2022-12-27T15:14:41.196Z"
   },
   {
    "duration": 4,
    "start_time": "2022-12-27T15:15:23.699Z"
   },
   {
    "duration": 14,
    "start_time": "2022-12-27T15:15:28.144Z"
   },
   {
    "duration": 41,
    "start_time": "2022-12-27T15:16:04.631Z"
   },
   {
    "duration": 5,
    "start_time": "2022-12-27T15:16:13.310Z"
   },
   {
    "duration": 9,
    "start_time": "2022-12-27T15:16:19.879Z"
   },
   {
    "duration": 10,
    "start_time": "2022-12-27T15:16:42.907Z"
   },
   {
    "duration": 12,
    "start_time": "2022-12-27T15:17:18.244Z"
   },
   {
    "duration": 10,
    "start_time": "2022-12-27T15:17:22.902Z"
   },
   {
    "duration": 10,
    "start_time": "2022-12-27T15:17:33.325Z"
   },
   {
    "duration": 66,
    "start_time": "2022-12-27T15:17:52.233Z"
   },
   {
    "duration": 10,
    "start_time": "2022-12-27T15:18:02.239Z"
   },
   {
    "duration": 9,
    "start_time": "2022-12-27T15:18:43.766Z"
   },
   {
    "duration": 22,
    "start_time": "2022-12-27T15:19:17.175Z"
   },
   {
    "duration": 18,
    "start_time": "2022-12-27T15:19:36.881Z"
   },
   {
    "duration": 13,
    "start_time": "2022-12-27T15:20:08.732Z"
   },
   {
    "duration": 9,
    "start_time": "2022-12-27T15:20:17.006Z"
   },
   {
    "duration": 12,
    "start_time": "2022-12-27T15:20:27.578Z"
   },
   {
    "duration": 150,
    "start_time": "2022-12-27T15:20:45.491Z"
   },
   {
    "duration": 141,
    "start_time": "2022-12-27T15:22:19.824Z"
   },
   {
    "duration": 87,
    "start_time": "2022-12-27T15:31:29.552Z"
   },
   {
    "duration": 266,
    "start_time": "2022-12-27T15:31:38.028Z"
   },
   {
    "duration": 87,
    "start_time": "2022-12-27T15:31:50.086Z"
   },
   {
    "duration": 90,
    "start_time": "2022-12-27T15:37:55.904Z"
   },
   {
    "duration": 15,
    "start_time": "2022-12-27T15:38:15.633Z"
   },
   {
    "duration": 20,
    "start_time": "2022-12-27T15:43:51.265Z"
   },
   {
    "duration": 24,
    "start_time": "2022-12-27T15:44:17.670Z"
   },
   {
    "duration": 92,
    "start_time": "2022-12-27T15:44:43.405Z"
   },
   {
    "duration": 13,
    "start_time": "2022-12-27T15:45:10.119Z"
   },
   {
    "duration": 102,
    "start_time": "2022-12-27T15:45:15.212Z"
   },
   {
    "duration": 23,
    "start_time": "2022-12-27T15:45:45.989Z"
   },
   {
    "duration": 190,
    "start_time": "2022-12-27T15:46:28.789Z"
   },
   {
    "duration": 151,
    "start_time": "2022-12-27T15:49:26.192Z"
   },
   {
    "duration": 226,
    "start_time": "2022-12-27T15:49:51.674Z"
   },
   {
    "duration": 23,
    "start_time": "2022-12-27T15:51:54.958Z"
   },
   {
    "duration": 286,
    "start_time": "2022-12-27T15:52:02.299Z"
   },
   {
    "duration": 25,
    "start_time": "2022-12-27T15:52:22.004Z"
   },
   {
    "duration": 389,
    "start_time": "2022-12-27T15:52:22.906Z"
   },
   {
    "duration": 25,
    "start_time": "2022-12-27T15:52:33.834Z"
   },
   {
    "duration": 28,
    "start_time": "2022-12-27T15:52:34.678Z"
   },
   {
    "duration": 27,
    "start_time": "2022-12-27T15:52:35.389Z"
   },
   {
    "duration": 203,
    "start_time": "2022-12-27T15:52:35.986Z"
   },
   {
    "duration": 17,
    "start_time": "2022-12-27T15:54:57.582Z"
   },
   {
    "duration": 14,
    "start_time": "2022-12-27T15:56:04.552Z"
   },
   {
    "duration": 15,
    "start_time": "2022-12-27T15:56:26.549Z"
   },
   {
    "duration": 13,
    "start_time": "2022-12-27T15:56:37.996Z"
   },
   {
    "duration": 75,
    "start_time": "2022-12-27T15:56:55.017Z"
   },
   {
    "duration": 14,
    "start_time": "2022-12-27T15:57:03.625Z"
   },
   {
    "duration": 24,
    "start_time": "2022-12-27T15:57:42.856Z"
   },
   {
    "duration": 27,
    "start_time": "2022-12-27T15:57:59.566Z"
   },
   {
    "duration": 30,
    "start_time": "2022-12-27T15:58:03.891Z"
   },
   {
    "duration": 221,
    "start_time": "2022-12-27T15:58:26.875Z"
   },
   {
    "duration": 673,
    "start_time": "2022-12-27T15:58:47.691Z"
   },
   {
    "duration": 56,
    "start_time": "2022-12-27T15:58:48.365Z"
   },
   {
    "duration": 13,
    "start_time": "2022-12-27T15:58:48.423Z"
   },
   {
    "duration": 16,
    "start_time": "2022-12-27T15:58:48.437Z"
   },
   {
    "duration": 11,
    "start_time": "2022-12-27T15:58:48.455Z"
   },
   {
    "duration": 21,
    "start_time": "2022-12-27T15:58:48.467Z"
   },
   {
    "duration": 26,
    "start_time": "2022-12-27T15:58:48.489Z"
   },
   {
    "duration": 16,
    "start_time": "2022-12-27T15:58:48.517Z"
   },
   {
    "duration": 24,
    "start_time": "2022-12-27T15:58:48.534Z"
   },
   {
    "duration": 20,
    "start_time": "2022-12-27T15:58:48.560Z"
   },
   {
    "duration": 14,
    "start_time": "2022-12-27T15:58:48.581Z"
   },
   {
    "duration": 25,
    "start_time": "2022-12-27T15:58:48.596Z"
   },
   {
    "duration": 201,
    "start_time": "2022-12-27T15:58:48.622Z"
   },
   {
    "duration": 13,
    "start_time": "2022-12-27T15:58:48.826Z"
   },
   {
    "duration": 824,
    "start_time": "2022-12-27T15:58:48.841Z"
   },
   {
    "duration": 5478,
    "start_time": "2022-12-27T15:58:49.666Z"
   },
   {
    "duration": 98,
    "start_time": "2022-12-27T15:58:55.146Z"
   },
   {
    "duration": 0,
    "start_time": "2022-12-27T15:58:55.246Z"
   },
   {
    "duration": 0,
    "start_time": "2022-12-27T15:58:55.247Z"
   },
   {
    "duration": 0,
    "start_time": "2022-12-27T15:58:55.248Z"
   },
   {
    "duration": 0,
    "start_time": "2022-12-27T15:58:55.249Z"
   },
   {
    "duration": 0,
    "start_time": "2022-12-27T15:58:55.250Z"
   },
   {
    "duration": 9,
    "start_time": "2022-12-27T15:59:36.214Z"
   },
   {
    "duration": 21,
    "start_time": "2022-12-27T16:00:13.580Z"
   },
   {
    "duration": 18,
    "start_time": "2022-12-27T16:00:16.181Z"
   },
   {
    "duration": 36,
    "start_time": "2022-12-27T16:00:18.538Z"
   },
   {
    "duration": 3,
    "start_time": "2022-12-27T16:00:20.697Z"
   },
   {
    "duration": 216,
    "start_time": "2022-12-27T16:00:23.296Z"
   },
   {
    "duration": 840,
    "start_time": "2022-12-27T22:17:17.982Z"
   },
   {
    "duration": 105,
    "start_time": "2022-12-27T22:17:18.825Z"
   },
   {
    "duration": 16,
    "start_time": "2022-12-27T22:17:18.932Z"
   },
   {
    "duration": 19,
    "start_time": "2022-12-27T22:17:18.949Z"
   },
   {
    "duration": 10,
    "start_time": "2022-12-27T22:17:18.971Z"
   },
   {
    "duration": 24,
    "start_time": "2022-12-27T22:17:18.996Z"
   },
   {
    "duration": 5,
    "start_time": "2022-12-27T22:17:19.022Z"
   },
   {
    "duration": 8,
    "start_time": "2022-12-27T22:17:19.029Z"
   },
   {
    "duration": 23,
    "start_time": "2022-12-27T22:17:19.038Z"
   },
   {
    "duration": 46,
    "start_time": "2022-12-27T22:17:19.063Z"
   },
   {
    "duration": 17,
    "start_time": "2022-12-27T22:17:19.111Z"
   },
   {
    "duration": 20,
    "start_time": "2022-12-27T22:17:19.130Z"
   },
   {
    "duration": 272,
    "start_time": "2022-12-27T22:17:19.153Z"
   },
   {
    "duration": 16,
    "start_time": "2022-12-27T22:17:19.428Z"
   },
   {
    "duration": 925,
    "start_time": "2022-12-27T22:17:19.446Z"
   },
   {
    "duration": 6074,
    "start_time": "2022-12-27T22:17:20.373Z"
   },
   {
    "duration": 17,
    "start_time": "2022-12-27T22:17:26.449Z"
   },
   {
    "duration": 37,
    "start_time": "2022-12-27T22:17:26.467Z"
   },
   {
    "duration": 30,
    "start_time": "2022-12-27T22:17:26.505Z"
   },
   {
    "duration": 2,
    "start_time": "2022-12-27T22:17:26.537Z"
   },
   {
    "duration": 140,
    "start_time": "2022-12-27T22:17:26.540Z"
   },
   {
    "duration": 24,
    "start_time": "2022-12-27T22:18:30.916Z"
   },
   {
    "duration": 15,
    "start_time": "2022-12-27T22:18:40.977Z"
   },
   {
    "duration": 28,
    "start_time": "2022-12-27T22:18:54.252Z"
   },
   {
    "duration": 25,
    "start_time": "2022-12-27T22:19:01.188Z"
   },
   {
    "duration": 245,
    "start_time": "2022-12-27T22:19:12.359Z"
   },
   {
    "duration": 145,
    "start_time": "2022-12-27T22:24:54.992Z"
   },
   {
    "duration": 136,
    "start_time": "2022-12-27T22:25:16.321Z"
   },
   {
    "duration": 128,
    "start_time": "2022-12-27T22:25:46.403Z"
   },
   {
    "duration": 272,
    "start_time": "2022-12-27T22:27:21.938Z"
   },
   {
    "duration": 273,
    "start_time": "2022-12-27T22:28:19.325Z"
   },
   {
    "duration": 267,
    "start_time": "2022-12-27T22:29:05.130Z"
   },
   {
    "duration": 269,
    "start_time": "2022-12-27T22:29:56.061Z"
   },
   {
    "duration": 286,
    "start_time": "2022-12-27T22:29:58.874Z"
   },
   {
    "duration": 271,
    "start_time": "2022-12-27T22:30:29.672Z"
   },
   {
    "duration": 268,
    "start_time": "2022-12-27T22:30:39.114Z"
   },
   {
    "duration": 276,
    "start_time": "2022-12-27T22:31:18.873Z"
   },
   {
    "duration": 503,
    "start_time": "2022-12-27T22:31:59.303Z"
   },
   {
    "duration": 379,
    "start_time": "2022-12-27T22:32:48.784Z"
   },
   {
    "duration": 268,
    "start_time": "2022-12-27T22:33:00.054Z"
   },
   {
    "duration": 271,
    "start_time": "2022-12-27T22:33:16.857Z"
   },
   {
    "duration": 261,
    "start_time": "2022-12-27T22:33:28.939Z"
   },
   {
    "duration": 260,
    "start_time": "2022-12-27T22:33:37.416Z"
   },
   {
    "duration": 246,
    "start_time": "2022-12-27T22:33:47.628Z"
   },
   {
    "duration": 284,
    "start_time": "2022-12-27T22:34:00.290Z"
   },
   {
    "duration": 424,
    "start_time": "2022-12-27T22:34:24.842Z"
   },
   {
    "duration": 52,
    "start_time": "2022-12-27T22:35:07.164Z"
   },
   {
    "duration": 50,
    "start_time": "2022-12-27T22:35:22.890Z"
   },
   {
    "duration": 57,
    "start_time": "2022-12-27T22:35:39.536Z"
   },
   {
    "duration": 44,
    "start_time": "2022-12-27T22:35:51.611Z"
   },
   {
    "duration": 56,
    "start_time": "2022-12-27T22:36:08.878Z"
   },
   {
    "duration": 49,
    "start_time": "2022-12-27T22:36:26.550Z"
   },
   {
    "duration": 50,
    "start_time": "2022-12-27T22:36:44.521Z"
   },
   {
    "duration": 244,
    "start_time": "2022-12-27T22:36:57.607Z"
   },
   {
    "duration": 275,
    "start_time": "2022-12-27T22:37:29.549Z"
   },
   {
    "duration": 302,
    "start_time": "2022-12-27T22:37:44.860Z"
   },
   {
    "duration": 281,
    "start_time": "2022-12-27T22:40:43.429Z"
   },
   {
    "duration": 322,
    "start_time": "2022-12-27T22:41:04.763Z"
   },
   {
    "duration": 5,
    "start_time": "2022-12-27T22:41:36.764Z"
   },
   {
    "duration": 18,
    "start_time": "2022-12-27T22:44:05.960Z"
   },
   {
    "duration": 502,
    "start_time": "2022-12-27T22:45:45.614Z"
   },
   {
    "duration": 236,
    "start_time": "2022-12-27T22:46:31.479Z"
   },
   {
    "duration": 237,
    "start_time": "2022-12-27T22:50:38.982Z"
   },
   {
    "duration": 256,
    "start_time": "2022-12-27T22:51:34.928Z"
   },
   {
    "duration": 214,
    "start_time": "2022-12-27T22:51:55.612Z"
   },
   {
    "duration": 354,
    "start_time": "2022-12-27T22:53:32.035Z"
   },
   {
    "duration": 165,
    "start_time": "2022-12-27T22:53:54.652Z"
   },
   {
    "duration": 176,
    "start_time": "2022-12-27T22:56:43.870Z"
   },
   {
    "duration": 190,
    "start_time": "2022-12-27T22:57:46.916Z"
   },
   {
    "duration": 58,
    "start_time": "2022-12-27T22:58:21.063Z"
   },
   {
    "duration": 270,
    "start_time": "2022-12-27T23:00:00.438Z"
   },
   {
    "duration": 216,
    "start_time": "2022-12-27T23:00:47.790Z"
   },
   {
    "duration": 291,
    "start_time": "2022-12-27T23:01:18.927Z"
   },
   {
    "duration": 49,
    "start_time": "2022-12-27T23:03:13.691Z"
   },
   {
    "duration": 205,
    "start_time": "2022-12-27T23:03:37.440Z"
   },
   {
    "duration": 211,
    "start_time": "2022-12-27T23:04:13.925Z"
   },
   {
    "duration": 205,
    "start_time": "2022-12-27T23:04:51.504Z"
   },
   {
    "duration": 169,
    "start_time": "2022-12-27T23:04:52.282Z"
   },
   {
    "duration": 6,
    "start_time": "2022-12-27T23:08:06.783Z"
   },
   {
    "duration": 726,
    "start_time": "2022-12-27T23:08:19.628Z"
   },
   {
    "duration": 8,
    "start_time": "2022-12-27T23:08:44.273Z"
   },
   {
    "duration": 8,
    "start_time": "2022-12-27T23:08:56.530Z"
   },
   {
    "duration": 9,
    "start_time": "2022-12-27T23:19:06.682Z"
   },
   {
    "duration": 9,
    "start_time": "2022-12-27T23:19:34.667Z"
   },
   {
    "duration": 8,
    "start_time": "2022-12-27T23:20:46.644Z"
   },
   {
    "duration": 9,
    "start_time": "2022-12-27T23:20:51.464Z"
   },
   {
    "duration": 7,
    "start_time": "2022-12-27T23:21:36.711Z"
   },
   {
    "duration": 8,
    "start_time": "2022-12-27T23:21:55.216Z"
   },
   {
    "duration": 5,
    "start_time": "2022-12-27T23:22:11.779Z"
   },
   {
    "duration": 609,
    "start_time": "2022-12-27T23:25:35.059Z"
   },
   {
    "duration": 62,
    "start_time": "2022-12-27T23:25:35.670Z"
   },
   {
    "duration": 13,
    "start_time": "2022-12-27T23:25:35.734Z"
   },
   {
    "duration": 22,
    "start_time": "2022-12-27T23:25:35.749Z"
   },
   {
    "duration": 39,
    "start_time": "2022-12-27T23:25:35.773Z"
   },
   {
    "duration": 59,
    "start_time": "2022-12-27T23:25:35.814Z"
   },
   {
    "duration": 5,
    "start_time": "2022-12-27T23:25:35.875Z"
   },
   {
    "duration": 24,
    "start_time": "2022-12-27T23:25:35.881Z"
   },
   {
    "duration": 37,
    "start_time": "2022-12-27T23:25:35.908Z"
   },
   {
    "duration": 34,
    "start_time": "2022-12-27T23:25:35.949Z"
   },
   {
    "duration": 19,
    "start_time": "2022-12-27T23:25:35.985Z"
   },
   {
    "duration": 26,
    "start_time": "2022-12-27T23:25:36.006Z"
   },
   {
    "duration": 226,
    "start_time": "2022-12-27T23:25:36.035Z"
   },
   {
    "duration": 16,
    "start_time": "2022-12-27T23:25:36.263Z"
   },
   {
    "duration": 820,
    "start_time": "2022-12-27T23:25:36.280Z"
   },
   {
    "duration": 5424,
    "start_time": "2022-12-27T23:25:37.102Z"
   },
   {
    "duration": 17,
    "start_time": "2022-12-27T23:25:42.528Z"
   },
   {
    "duration": 14,
    "start_time": "2022-12-27T23:25:42.547Z"
   },
   {
    "duration": 52,
    "start_time": "2022-12-27T23:25:42.562Z"
   },
   {
    "duration": 2,
    "start_time": "2022-12-27T23:25:42.616Z"
   },
   {
    "duration": 251,
    "start_time": "2022-12-27T23:25:42.620Z"
   },
   {
    "duration": 256,
    "start_time": "2022-12-27T23:25:42.873Z"
   },
   {
    "duration": 267,
    "start_time": "2022-12-27T23:25:43.130Z"
   },
   {
    "duration": 283,
    "start_time": "2022-12-27T23:25:43.398Z"
   },
   {
    "duration": 314,
    "start_time": "2022-12-27T23:25:43.683Z"
   },
   {
    "duration": 304,
    "start_time": "2022-12-27T23:25:43.999Z"
   },
   {
    "duration": 14,
    "start_time": "2022-12-27T23:25:44.305Z"
   },
   {
    "duration": 214,
    "start_time": "2022-12-27T23:25:44.322Z"
   },
   {
    "duration": 221,
    "start_time": "2022-12-27T23:25:44.538Z"
   },
   {
    "duration": 216,
    "start_time": "2022-12-27T23:25:44.762Z"
   },
   {
    "duration": 188,
    "start_time": "2022-12-27T23:25:44.980Z"
   },
   {
    "duration": 224,
    "start_time": "2022-12-27T23:25:45.170Z"
   },
   {
    "duration": 211,
    "start_time": "2022-12-27T23:25:45.396Z"
   },
   {
    "duration": 389,
    "start_time": "2022-12-27T23:25:45.609Z"
   },
   {
    "duration": 243,
    "start_time": "2022-12-27T23:25:46.000Z"
   },
   {
    "duration": 216,
    "start_time": "2022-12-27T23:25:46.245Z"
   },
   {
    "duration": 167,
    "start_time": "2022-12-27T23:25:46.463Z"
   },
   {
    "duration": 8,
    "start_time": "2022-12-27T23:25:46.631Z"
   },
   {
    "duration": 7,
    "start_time": "2022-12-27T23:25:46.640Z"
   },
   {
    "duration": 6,
    "start_time": "2022-12-27T23:27:30.007Z"
   },
   {
    "duration": 8,
    "start_time": "2022-12-27T23:29:19.642Z"
   },
   {
    "duration": 9,
    "start_time": "2022-12-27T23:29:49.140Z"
   },
   {
    "duration": 6,
    "start_time": "2022-12-27T23:30:19.858Z"
   },
   {
    "duration": 7,
    "start_time": "2022-12-27T23:30:35.385Z"
   },
   {
    "duration": 6,
    "start_time": "2022-12-27T23:30:39.477Z"
   },
   {
    "duration": 8,
    "start_time": "2022-12-27T23:30:43.834Z"
   },
   {
    "duration": 5,
    "start_time": "2022-12-27T23:30:44.903Z"
   },
   {
    "duration": 8,
    "start_time": "2022-12-27T23:30:51.747Z"
   },
   {
    "duration": 6,
    "start_time": "2022-12-27T23:31:08.751Z"
   },
   {
    "duration": 2,
    "start_time": "2022-12-27T23:33:22.642Z"
   },
   {
    "duration": 293,
    "start_time": "2022-12-27T23:41:56.450Z"
   },
   {
    "duration": 105,
    "start_time": "2022-12-27T23:43:56.400Z"
   },
   {
    "duration": 363,
    "start_time": "2022-12-27T23:44:06.463Z"
   },
   {
    "duration": 230,
    "start_time": "2022-12-27T23:44:24.214Z"
   },
   {
    "duration": 201,
    "start_time": "2022-12-27T23:44:37.270Z"
   },
   {
    "duration": 173,
    "start_time": "2022-12-27T23:44:48.566Z"
   },
   {
    "duration": 744,
    "start_time": "2022-12-28T12:55:59.303Z"
   },
   {
    "duration": 103,
    "start_time": "2022-12-28T12:56:00.049Z"
   },
   {
    "duration": 15,
    "start_time": "2022-12-28T12:56:00.153Z"
   },
   {
    "duration": 25,
    "start_time": "2022-12-28T12:56:00.169Z"
   },
   {
    "duration": 17,
    "start_time": "2022-12-28T12:56:00.196Z"
   },
   {
    "duration": 39,
    "start_time": "2022-12-28T12:56:00.215Z"
   },
   {
    "duration": 9,
    "start_time": "2022-12-28T12:56:00.256Z"
   },
   {
    "duration": 24,
    "start_time": "2022-12-28T12:56:00.267Z"
   },
   {
    "duration": 28,
    "start_time": "2022-12-28T12:56:00.293Z"
   },
   {
    "duration": 21,
    "start_time": "2022-12-28T12:56:00.323Z"
   },
   {
    "duration": 14,
    "start_time": "2022-12-28T12:56:00.346Z"
   },
   {
    "duration": 17,
    "start_time": "2022-12-28T12:56:00.362Z"
   },
   {
    "duration": 221,
    "start_time": "2022-12-28T12:56:00.380Z"
   },
   {
    "duration": 14,
    "start_time": "2022-12-28T12:56:00.604Z"
   },
   {
    "duration": 875,
    "start_time": "2022-12-28T12:56:00.621Z"
   },
   {
    "duration": 6069,
    "start_time": "2022-12-28T12:56:01.498Z"
   },
   {
    "duration": 31,
    "start_time": "2022-12-28T12:56:07.577Z"
   },
   {
    "duration": 16,
    "start_time": "2022-12-28T12:56:07.610Z"
   },
   {
    "duration": 29,
    "start_time": "2022-12-28T12:56:07.628Z"
   },
   {
    "duration": 244,
    "start_time": "2022-12-28T12:56:07.658Z"
   },
   {
    "duration": 286,
    "start_time": "2022-12-28T12:56:07.905Z"
   },
   {
    "duration": 341,
    "start_time": "2022-12-28T12:56:08.193Z"
   },
   {
    "duration": 340,
    "start_time": "2022-12-28T12:56:08.536Z"
   },
   {
    "duration": 374,
    "start_time": "2022-12-28T12:56:08.879Z"
   },
   {
    "duration": 328,
    "start_time": "2022-12-28T12:56:09.255Z"
   },
   {
    "duration": 14,
    "start_time": "2022-12-28T12:56:09.585Z"
   },
   {
    "duration": 214,
    "start_time": "2022-12-28T12:56:09.600Z"
   },
   {
    "duration": 274,
    "start_time": "2022-12-28T12:56:09.816Z"
   },
   {
    "duration": 290,
    "start_time": "2022-12-28T12:56:10.093Z"
   },
   {
    "duration": 183,
    "start_time": "2022-12-28T12:56:10.386Z"
   },
   {
    "duration": 240,
    "start_time": "2022-12-28T12:56:10.571Z"
   },
   {
    "duration": 307,
    "start_time": "2022-12-28T12:56:10.813Z"
   },
   {
    "duration": 398,
    "start_time": "2022-12-28T12:56:11.122Z"
   },
   {
    "duration": 254,
    "start_time": "2022-12-28T12:56:11.522Z"
   },
   {
    "duration": 230,
    "start_time": "2022-12-28T12:56:11.778Z"
   },
   {
    "duration": 181,
    "start_time": "2022-12-28T12:56:12.010Z"
   },
   {
    "duration": 7,
    "start_time": "2022-12-28T12:56:12.193Z"
   },
   {
    "duration": 18,
    "start_time": "2022-12-28T12:56:12.201Z"
   },
   {
    "duration": 12,
    "start_time": "2022-12-28T12:56:12.220Z"
   },
   {
    "duration": 5,
    "start_time": "2022-12-28T12:56:12.234Z"
   },
   {
    "duration": 207,
    "start_time": "2022-12-28T12:56:48.012Z"
   },
   {
    "duration": 153,
    "start_time": "2022-12-28T12:58:31.481Z"
   },
   {
    "duration": 138,
    "start_time": "2022-12-28T12:58:46.211Z"
   },
   {
    "duration": 178,
    "start_time": "2022-12-28T12:59:04.276Z"
   },
   {
    "duration": 51,
    "start_time": "2022-12-28T12:59:22.117Z"
   },
   {
    "duration": 152,
    "start_time": "2022-12-28T12:59:28.679Z"
   },
   {
    "duration": 159,
    "start_time": "2022-12-28T13:00:22.217Z"
   },
   {
    "duration": 173,
    "start_time": "2022-12-28T13:00:41.849Z"
   },
   {
    "duration": 279,
    "start_time": "2022-12-28T13:00:55.540Z"
   },
   {
    "duration": 185,
    "start_time": "2022-12-28T13:01:01.811Z"
   },
   {
    "duration": 3,
    "start_time": "2022-12-28T13:02:57.453Z"
   },
   {
    "duration": 55,
    "start_time": "2022-12-28T13:03:02.804Z"
   },
   {
    "duration": 14,
    "start_time": "2022-12-28T13:03:12.137Z"
   },
   {
    "duration": 11,
    "start_time": "2022-12-28T13:08:07.780Z"
   },
   {
    "duration": 9,
    "start_time": "2022-12-28T13:08:29.541Z"
   },
   {
    "duration": 13,
    "start_time": "2022-12-28T13:08:31.093Z"
   },
   {
    "duration": 3,
    "start_time": "2022-12-28T13:08:53.949Z"
   },
   {
    "duration": 62,
    "start_time": "2022-12-28T13:08:54.698Z"
   },
   {
    "duration": 15,
    "start_time": "2022-12-28T13:08:56.498Z"
   },
   {
    "duration": 21,
    "start_time": "2022-12-28T13:08:59.518Z"
   },
   {
    "duration": 17,
    "start_time": "2022-12-28T13:09:01.801Z"
   },
   {
    "duration": 17,
    "start_time": "2022-12-28T13:09:04.014Z"
   },
   {
    "duration": 7,
    "start_time": "2022-12-28T13:09:20.731Z"
   },
   {
    "duration": 7,
    "start_time": "2022-12-28T13:09:30.910Z"
   },
   {
    "duration": 16,
    "start_time": "2022-12-28T13:09:42.422Z"
   },
   {
    "duration": 18,
    "start_time": "2022-12-28T13:09:44.655Z"
   },
   {
    "duration": 14,
    "start_time": "2022-12-28T13:09:55.397Z"
   },
   {
    "duration": 18,
    "start_time": "2022-12-28T13:09:57.021Z"
   },
   {
    "duration": 192,
    "start_time": "2022-12-28T13:14:09.130Z"
   },
   {
    "duration": 2,
    "start_time": "2022-12-28T13:23:17.082Z"
   },
   {
    "duration": 18,
    "start_time": "2022-12-28T13:23:29.947Z"
   },
   {
    "duration": 13,
    "start_time": "2022-12-28T13:23:52.939Z"
   },
   {
    "duration": 382,
    "start_time": "2022-12-28T13:23:54.712Z"
   },
   {
    "duration": 5287,
    "start_time": "2022-12-28T13:24:22.273Z"
   },
   {
    "duration": 15,
    "start_time": "2022-12-28T13:27:04.247Z"
   },
   {
    "duration": 18,
    "start_time": "2022-12-28T13:27:34.605Z"
   },
   {
    "duration": 26,
    "start_time": "2022-12-28T13:28:42.008Z"
   },
   {
    "duration": 2,
    "start_time": "2022-12-28T13:29:24.809Z"
   },
   {
    "duration": 21,
    "start_time": "2022-12-28T13:39:18.546Z"
   },
   {
    "duration": 18,
    "start_time": "2022-12-28T13:39:22.861Z"
   },
   {
    "duration": 15,
    "start_time": "2022-12-28T13:39:41.143Z"
   },
   {
    "duration": 14,
    "start_time": "2022-12-28T13:39:45.170Z"
   },
   {
    "duration": 17,
    "start_time": "2022-12-28T13:39:53.612Z"
   },
   {
    "duration": 17,
    "start_time": "2022-12-28T13:39:55.025Z"
   },
   {
    "duration": 23,
    "start_time": "2022-12-28T13:39:56.136Z"
   },
   {
    "duration": 166,
    "start_time": "2022-12-28T13:39:56.641Z"
   },
   {
    "duration": 15,
    "start_time": "2022-12-28T13:45:27.014Z"
   },
   {
    "duration": 23,
    "start_time": "2022-12-28T13:45:31.861Z"
   },
   {
    "duration": 15,
    "start_time": "2022-12-28T13:46:49.673Z"
   },
   {
    "duration": 15,
    "start_time": "2022-12-28T13:47:05.764Z"
   },
   {
    "duration": 24,
    "start_time": "2022-12-28T13:47:41.648Z"
   },
   {
    "duration": 24,
    "start_time": "2022-12-28T13:48:01.734Z"
   },
   {
    "duration": 50,
    "start_time": "2022-12-28T13:48:29.544Z"
   },
   {
    "duration": 108,
    "start_time": "2022-12-28T13:49:06.943Z"
   },
   {
    "duration": 44,
    "start_time": "2022-12-28T13:49:51.924Z"
   },
   {
    "duration": 236,
    "start_time": "2022-12-28T13:50:48.422Z"
   },
   {
    "duration": 23,
    "start_time": "2022-12-28T13:51:05.442Z"
   },
   {
    "duration": 167,
    "start_time": "2022-12-28T13:51:06.366Z"
   },
   {
    "duration": 163,
    "start_time": "2022-12-28T13:51:25.404Z"
   },
   {
    "duration": 238,
    "start_time": "2022-12-28T13:53:42.038Z"
   },
   {
    "duration": 271,
    "start_time": "2022-12-28T13:54:32.808Z"
   },
   {
    "duration": 285,
    "start_time": "2022-12-28T13:54:43.827Z"
   },
   {
    "duration": 285,
    "start_time": "2022-12-28T13:55:14.110Z"
   },
   {
    "duration": 278,
    "start_time": "2022-12-28T13:55:29.705Z"
   },
   {
    "duration": 13,
    "start_time": "2022-12-28T14:05:50.547Z"
   },
   {
    "duration": 283,
    "start_time": "2022-12-28T14:05:53.852Z"
   },
   {
    "duration": 185,
    "start_time": "2022-12-28T14:09:20.058Z"
   },
   {
    "duration": 198,
    "start_time": "2022-12-28T14:09:21.194Z"
   },
   {
    "duration": 172,
    "start_time": "2022-12-28T14:09:29.450Z"
   },
   {
    "duration": 2,
    "start_time": "2022-12-28T14:10:20.519Z"
   },
   {
    "duration": 1127,
    "start_time": "2022-12-28T14:10:46.355Z"
   },
   {
    "duration": 62,
    "start_time": "2022-12-28T14:10:47.484Z"
   },
   {
    "duration": 12,
    "start_time": "2022-12-28T14:10:47.548Z"
   },
   {
    "duration": 23,
    "start_time": "2022-12-28T14:10:47.562Z"
   },
   {
    "duration": 24,
    "start_time": "2022-12-28T14:10:47.587Z"
   },
   {
    "duration": 21,
    "start_time": "2022-12-28T14:10:47.613Z"
   },
   {
    "duration": 9,
    "start_time": "2022-12-28T14:10:47.636Z"
   },
   {
    "duration": 62,
    "start_time": "2022-12-28T14:10:47.646Z"
   },
   {
    "duration": 27,
    "start_time": "2022-12-28T14:10:47.709Z"
   },
   {
    "duration": 35,
    "start_time": "2022-12-28T14:10:47.739Z"
   },
   {
    "duration": 17,
    "start_time": "2022-12-28T14:10:47.776Z"
   },
   {
    "duration": 34,
    "start_time": "2022-12-28T14:10:47.795Z"
   },
   {
    "duration": 204,
    "start_time": "2022-12-28T14:10:47.830Z"
   },
   {
    "duration": 13,
    "start_time": "2022-12-28T14:10:48.036Z"
   },
   {
    "duration": 327,
    "start_time": "2022-12-28T14:10:48.051Z"
   },
   {
    "duration": 5039,
    "start_time": "2022-12-28T14:10:48.379Z"
   },
   {
    "duration": 15,
    "start_time": "2022-12-28T14:10:53.420Z"
   },
   {
    "duration": 20,
    "start_time": "2022-12-28T14:10:53.436Z"
   },
   {
    "duration": 39,
    "start_time": "2022-12-28T14:10:53.458Z"
   },
   {
    "duration": 193,
    "start_time": "2022-12-28T14:10:53.498Z"
   },
   {
    "duration": 243,
    "start_time": "2022-12-28T14:10:53.693Z"
   },
   {
    "duration": 241,
    "start_time": "2022-12-28T14:10:53.937Z"
   },
   {
    "duration": 266,
    "start_time": "2022-12-28T14:10:54.180Z"
   },
   {
    "duration": 253,
    "start_time": "2022-12-28T14:10:54.447Z"
   },
   {
    "duration": 347,
    "start_time": "2022-12-28T14:10:54.701Z"
   },
   {
    "duration": 14,
    "start_time": "2022-12-28T14:10:55.049Z"
   },
   {
    "duration": 234,
    "start_time": "2022-12-28T14:10:55.064Z"
   },
   {
    "duration": 223,
    "start_time": "2022-12-28T14:10:55.303Z"
   },
   {
    "duration": 202,
    "start_time": "2022-12-28T14:10:55.528Z"
   },
   {
    "duration": 166,
    "start_time": "2022-12-28T14:10:55.732Z"
   },
   {
    "duration": 201,
    "start_time": "2022-12-28T14:10:55.899Z"
   },
   {
    "duration": 182,
    "start_time": "2022-12-28T14:10:56.102Z"
   },
   {
    "duration": 333,
    "start_time": "2022-12-28T14:10:56.286Z"
   },
   {
    "duration": 185,
    "start_time": "2022-12-28T14:10:56.620Z"
   },
   {
    "duration": 192,
    "start_time": "2022-12-28T14:10:56.807Z"
   },
   {
    "duration": 164,
    "start_time": "2022-12-28T14:10:57.001Z"
   },
   {
    "duration": 16,
    "start_time": "2022-12-28T14:10:57.167Z"
   },
   {
    "duration": 11,
    "start_time": "2022-12-28T14:10:57.184Z"
   },
   {
    "duration": 13,
    "start_time": "2022-12-28T14:10:57.197Z"
   },
   {
    "duration": 7,
    "start_time": "2022-12-28T14:10:57.212Z"
   },
   {
    "duration": 51,
    "start_time": "2022-12-28T14:19:31.825Z"
   },
   {
    "duration": 217,
    "start_time": "2022-12-28T14:20:01.046Z"
   },
   {
    "duration": 182,
    "start_time": "2022-12-28T14:20:04.095Z"
   },
   {
    "duration": 224,
    "start_time": "2022-12-28T14:20:04.858Z"
   },
   {
    "duration": 205,
    "start_time": "2022-12-28T14:21:44.470Z"
   },
   {
    "duration": 192,
    "start_time": "2022-12-28T14:21:46.455Z"
   },
   {
    "duration": 164,
    "start_time": "2022-12-28T14:21:47.240Z"
   },
   {
    "duration": 7,
    "start_time": "2022-12-28T14:31:49.302Z"
   },
   {
    "duration": 10,
    "start_time": "2022-12-28T14:41:07.884Z"
   },
   {
    "duration": 7,
    "start_time": "2022-12-28T14:44:53.829Z"
   },
   {
    "duration": 5,
    "start_time": "2022-12-28T14:46:18.386Z"
   },
   {
    "duration": 6,
    "start_time": "2022-12-28T14:46:23.412Z"
   },
   {
    "duration": 5,
    "start_time": "2022-12-28T14:46:24.279Z"
   },
   {
    "duration": 5,
    "start_time": "2022-12-28T14:46:31.644Z"
   },
   {
    "duration": 62,
    "start_time": "2022-12-28T19:42:46.701Z"
   },
   {
    "duration": 3,
    "start_time": "2022-12-28T19:48:55.463Z"
   },
   {
    "duration": 1198,
    "start_time": "2022-12-28T19:51:56.364Z"
   },
   {
    "duration": 96,
    "start_time": "2022-12-28T19:51:57.567Z"
   },
   {
    "duration": 20,
    "start_time": "2022-12-28T19:51:57.665Z"
   },
   {
    "duration": 28,
    "start_time": "2022-12-28T19:51:57.688Z"
   },
   {
    "duration": 14,
    "start_time": "2022-12-28T19:51:57.719Z"
   },
   {
    "duration": 11,
    "start_time": "2022-12-28T19:51:57.734Z"
   },
   {
    "duration": 48,
    "start_time": "2022-12-28T19:51:57.747Z"
   },
   {
    "duration": 3,
    "start_time": "2022-12-28T19:51:57.798Z"
   },
   {
    "duration": 7,
    "start_time": "2022-12-28T19:51:57.803Z"
   },
   {
    "duration": 7,
    "start_time": "2022-12-28T19:51:57.815Z"
   },
   {
    "duration": 18,
    "start_time": "2022-12-28T19:51:57.823Z"
   },
   {
    "duration": 17,
    "start_time": "2022-12-28T19:51:57.842Z"
   },
   {
    "duration": 19,
    "start_time": "2022-12-28T19:51:57.875Z"
   },
   {
    "duration": 234,
    "start_time": "2022-12-28T19:51:57.895Z"
   },
   {
    "duration": 14,
    "start_time": "2022-12-28T19:51:58.130Z"
   },
   {
    "duration": 326,
    "start_time": "2022-12-28T19:51:58.146Z"
   },
   {
    "duration": 6865,
    "start_time": "2022-12-28T19:51:58.473Z"
   },
   {
    "duration": 15,
    "start_time": "2022-12-28T19:52:05.340Z"
   },
   {
    "duration": 40,
    "start_time": "2022-12-28T19:52:05.357Z"
   },
   {
    "duration": 33,
    "start_time": "2022-12-28T19:52:05.399Z"
   },
   {
    "duration": 186,
    "start_time": "2022-12-28T19:52:05.434Z"
   },
   {
    "duration": 269,
    "start_time": "2022-12-28T19:52:05.622Z"
   },
   {
    "duration": 253,
    "start_time": "2022-12-28T19:52:05.895Z"
   },
   {
    "duration": 358,
    "start_time": "2022-12-28T19:52:06.149Z"
   },
   {
    "duration": 700,
    "start_time": "2022-12-28T19:52:06.508Z"
   },
   {
    "duration": 694,
    "start_time": "2022-12-28T19:52:07.210Z"
   },
   {
    "duration": 17,
    "start_time": "2022-12-28T19:52:07.906Z"
   },
   {
    "duration": 575,
    "start_time": "2022-12-28T19:52:07.980Z"
   },
   {
    "duration": 261,
    "start_time": "2022-12-28T19:52:08.557Z"
   },
   {
    "duration": 246,
    "start_time": "2022-12-28T19:52:08.820Z"
   },
   {
    "duration": 191,
    "start_time": "2022-12-28T19:52:09.068Z"
   },
   {
    "duration": 246,
    "start_time": "2022-12-28T19:52:09.260Z"
   },
   {
    "duration": 216,
    "start_time": "2022-12-28T19:52:09.509Z"
   },
   {
    "duration": 374,
    "start_time": "2022-12-28T19:52:09.726Z"
   },
   {
    "duration": 209,
    "start_time": "2022-12-28T19:52:10.102Z"
   },
   {
    "duration": 200,
    "start_time": "2022-12-28T19:52:10.313Z"
   },
   {
    "duration": 178,
    "start_time": "2022-12-28T19:52:10.515Z"
   },
   {
    "duration": 7,
    "start_time": "2022-12-28T19:52:10.695Z"
   },
   {
    "duration": 29,
    "start_time": "2022-12-28T19:52:10.703Z"
   },
   {
    "duration": 30,
    "start_time": "2022-12-28T19:52:10.733Z"
   },
   {
    "duration": 36,
    "start_time": "2022-12-28T19:52:10.765Z"
   },
   {
    "duration": 18,
    "start_time": "2022-12-28T19:53:32.282Z"
   },
   {
    "duration": 37,
    "start_time": "2022-12-28T19:54:18.548Z"
   },
   {
    "duration": 23,
    "start_time": "2022-12-28T19:54:24.107Z"
   },
   {
    "duration": 15,
    "start_time": "2022-12-28T19:55:09.547Z"
   },
   {
    "duration": 1190,
    "start_time": "2022-12-28T19:58:11.094Z"
   },
   {
    "duration": 72,
    "start_time": "2022-12-28T19:58:12.286Z"
   },
   {
    "duration": 13,
    "start_time": "2022-12-28T19:58:12.360Z"
   },
   {
    "duration": 22,
    "start_time": "2022-12-28T19:58:12.375Z"
   },
   {
    "duration": 17,
    "start_time": "2022-12-28T19:58:12.400Z"
   },
   {
    "duration": 11,
    "start_time": "2022-12-28T19:58:12.418Z"
   },
   {
    "duration": 20,
    "start_time": "2022-12-28T19:58:12.431Z"
   },
   {
    "duration": 31,
    "start_time": "2022-12-28T19:58:12.453Z"
   },
   {
    "duration": 18,
    "start_time": "2022-12-28T19:58:12.489Z"
   },
   {
    "duration": 10,
    "start_time": "2022-12-28T19:58:12.509Z"
   },
   {
    "duration": 23,
    "start_time": "2022-12-28T19:58:12.521Z"
   },
   {
    "duration": 18,
    "start_time": "2022-12-28T19:58:12.546Z"
   },
   {
    "duration": 34,
    "start_time": "2022-12-28T19:58:12.566Z"
   },
   {
    "duration": 260,
    "start_time": "2022-12-28T19:58:12.605Z"
   },
   {
    "duration": 26,
    "start_time": "2022-12-28T19:58:12.867Z"
   },
   {
    "duration": 355,
    "start_time": "2022-12-28T19:58:12.894Z"
   },
   {
    "duration": 6245,
    "start_time": "2022-12-28T19:58:13.251Z"
   },
   {
    "duration": 19,
    "start_time": "2022-12-28T19:58:19.498Z"
   },
   {
    "duration": 68,
    "start_time": "2022-12-28T19:58:19.519Z"
   },
   {
    "duration": 35,
    "start_time": "2022-12-28T19:58:19.593Z"
   },
   {
    "duration": 179,
    "start_time": "2022-12-28T19:58:19.629Z"
   },
   {
    "duration": 268,
    "start_time": "2022-12-28T19:58:19.810Z"
   },
   {
    "duration": 277,
    "start_time": "2022-12-28T19:58:20.080Z"
   },
   {
    "duration": 290,
    "start_time": "2022-12-28T19:58:20.358Z"
   },
   {
    "duration": 248,
    "start_time": "2022-12-28T19:58:20.650Z"
   },
   {
    "duration": 293,
    "start_time": "2022-12-28T19:58:20.900Z"
   },
   {
    "duration": 14,
    "start_time": "2022-12-28T19:58:21.194Z"
   },
   {
    "duration": 411,
    "start_time": "2022-12-28T19:58:21.210Z"
   },
   {
    "duration": 490,
    "start_time": "2022-12-28T19:58:21.623Z"
   },
   {
    "duration": 600,
    "start_time": "2022-12-28T19:58:22.115Z"
   },
   {
    "duration": 478,
    "start_time": "2022-12-28T19:58:22.717Z"
   },
   {
    "duration": 418,
    "start_time": "2022-12-28T19:58:23.198Z"
   },
   {
    "duration": 309,
    "start_time": "2022-12-28T19:58:23.618Z"
   },
   {
    "duration": 384,
    "start_time": "2022-12-28T19:58:23.929Z"
   },
   {
    "duration": 197,
    "start_time": "2022-12-28T19:58:24.316Z"
   },
   {
    "duration": 260,
    "start_time": "2022-12-28T19:58:24.515Z"
   },
   {
    "duration": 192,
    "start_time": "2022-12-28T19:58:24.780Z"
   },
   {
    "duration": 9,
    "start_time": "2022-12-28T19:58:24.976Z"
   },
   {
    "duration": 28,
    "start_time": "2022-12-28T19:58:24.990Z"
   },
   {
    "duration": 16,
    "start_time": "2022-12-28T19:58:25.021Z"
   },
   {
    "duration": 17,
    "start_time": "2022-12-28T19:58:25.042Z"
   },
   {
    "duration": 38,
    "start_time": "2022-12-28T19:59:37.410Z"
   },
   {
    "duration": 160,
    "start_time": "2022-12-28T19:59:45.737Z"
   },
   {
    "duration": 237,
    "start_time": "2022-12-28T20:05:22.212Z"
   },
   {
    "duration": 278,
    "start_time": "2022-12-28T20:05:26.668Z"
   },
   {
    "duration": 267,
    "start_time": "2022-12-28T20:05:29.995Z"
   },
   {
    "duration": 272,
    "start_time": "2022-12-28T20:05:30.740Z"
   },
   {
    "duration": 396,
    "start_time": "2022-12-28T20:11:11.438Z"
   },
   {
    "duration": 304,
    "start_time": "2022-12-28T20:11:15.799Z"
   },
   {
    "duration": 302,
    "start_time": "2022-12-28T20:11:16.946Z"
   },
   {
    "duration": 302,
    "start_time": "2022-12-28T20:11:25.992Z"
   },
   {
    "duration": 292,
    "start_time": "2022-12-28T20:11:26.804Z"
   },
   {
    "duration": 248,
    "start_time": "2022-12-28T20:11:39.591Z"
   },
   {
    "duration": 256,
    "start_time": "2022-12-28T20:11:41.049Z"
   },
   {
    "duration": 307,
    "start_time": "2022-12-28T20:11:41.714Z"
   },
   {
    "duration": 269,
    "start_time": "2022-12-28T20:11:42.125Z"
   },
   {
    "duration": 392,
    "start_time": "2022-12-28T20:11:42.737Z"
   },
   {
    "duration": 13,
    "start_time": "2022-12-28T20:12:06.644Z"
   },
   {
    "duration": 213,
    "start_time": "2022-12-28T20:12:13.828Z"
   },
   {
    "duration": 177,
    "start_time": "2022-12-28T20:13:41.966Z"
   },
   {
    "duration": 204,
    "start_time": "2022-12-28T20:13:46.842Z"
   },
   {
    "duration": 153,
    "start_time": "2022-12-28T20:13:47.605Z"
   },
   {
    "duration": 182,
    "start_time": "2022-12-28T20:13:52.938Z"
   },
   {
    "duration": 216,
    "start_time": "2022-12-28T20:13:53.454Z"
   },
   {
    "duration": 144,
    "start_time": "2022-12-28T20:13:54.023Z"
   },
   {
    "duration": 164,
    "start_time": "2022-12-28T20:13:55.859Z"
   },
   {
    "duration": 186,
    "start_time": "2022-12-28T20:13:56.305Z"
   },
   {
    "duration": 136,
    "start_time": "2022-12-28T20:13:56.932Z"
   },
   {
    "duration": 174,
    "start_time": "2022-12-28T20:21:16.259Z"
   },
   {
    "duration": 304,
    "start_time": "2022-12-28T20:21:16.845Z"
   },
   {
    "duration": 141,
    "start_time": "2022-12-28T20:21:17.929Z"
   },
   {
    "duration": 7,
    "start_time": "2022-12-28T20:21:44.776Z"
   },
   {
    "duration": 6,
    "start_time": "2022-12-28T20:21:45.945Z"
   },
   {
    "duration": 8,
    "start_time": "2022-12-28T20:22:01.311Z"
   },
   {
    "duration": 6,
    "start_time": "2022-12-28T20:22:02.096Z"
   },
   {
    "duration": 14,
    "start_time": "2022-12-28T20:26:11.889Z"
   },
   {
    "duration": 14,
    "start_time": "2022-12-28T20:35:22.963Z"
   },
   {
    "duration": 13,
    "start_time": "2022-12-28T20:35:48.879Z"
   },
   {
    "duration": 196,
    "start_time": "2022-12-28T20:36:19.168Z"
   },
   {
    "duration": 1301,
    "start_time": "2022-12-28T20:40:27.275Z"
   },
   {
    "duration": 70,
    "start_time": "2022-12-28T20:40:28.578Z"
   },
   {
    "duration": 21,
    "start_time": "2022-12-28T20:40:28.651Z"
   },
   {
    "duration": 20,
    "start_time": "2022-12-28T20:40:28.674Z"
   },
   {
    "duration": 20,
    "start_time": "2022-12-28T20:40:28.696Z"
   },
   {
    "duration": 40,
    "start_time": "2022-12-28T20:40:28.718Z"
   },
   {
    "duration": 28,
    "start_time": "2022-12-28T20:40:28.760Z"
   },
   {
    "duration": 4,
    "start_time": "2022-12-28T20:40:28.790Z"
   },
   {
    "duration": 9,
    "start_time": "2022-12-28T20:40:28.796Z"
   },
   {
    "duration": 11,
    "start_time": "2022-12-28T20:40:28.808Z"
   },
   {
    "duration": 30,
    "start_time": "2022-12-28T20:40:28.821Z"
   },
   {
    "duration": 47,
    "start_time": "2022-12-28T20:40:28.854Z"
   },
   {
    "duration": 24,
    "start_time": "2022-12-28T20:40:28.904Z"
   },
   {
    "duration": 219,
    "start_time": "2022-12-28T20:40:28.930Z"
   },
   {
    "duration": 26,
    "start_time": "2022-12-28T20:40:29.151Z"
   },
   {
    "duration": 366,
    "start_time": "2022-12-28T20:40:29.179Z"
   },
   {
    "duration": 5642,
    "start_time": "2022-12-28T20:40:29.547Z"
   },
   {
    "duration": 17,
    "start_time": "2022-12-28T20:40:35.191Z"
   },
   {
    "duration": 18,
    "start_time": "2022-12-28T20:40:35.210Z"
   },
   {
    "duration": 64,
    "start_time": "2022-12-28T20:40:35.231Z"
   },
   {
    "duration": 228,
    "start_time": "2022-12-28T20:40:35.298Z"
   },
   {
    "duration": 314,
    "start_time": "2022-12-28T20:40:35.530Z"
   },
   {
    "duration": 343,
    "start_time": "2022-12-28T20:40:35.846Z"
   },
   {
    "duration": 301,
    "start_time": "2022-12-28T20:40:36.190Z"
   },
   {
    "duration": 313,
    "start_time": "2022-12-28T20:40:36.493Z"
   },
   {
    "duration": 313,
    "start_time": "2022-12-28T20:40:36.808Z"
   },
   {
    "duration": 15,
    "start_time": "2022-12-28T20:40:37.122Z"
   },
   {
    "duration": 250,
    "start_time": "2022-12-28T20:40:37.141Z"
   },
   {
    "duration": 15,
    "start_time": "2022-12-28T20:40:37.393Z"
   },
   {
    "duration": 226,
    "start_time": "2022-12-28T20:40:37.409Z"
   },
   {
    "duration": 201,
    "start_time": "2022-12-28T20:40:37.637Z"
   },
   {
    "duration": 257,
    "start_time": "2022-12-28T20:40:37.840Z"
   },
   {
    "duration": 168,
    "start_time": "2022-12-28T20:40:38.100Z"
   },
   {
    "duration": 218,
    "start_time": "2022-12-28T20:40:38.270Z"
   },
   {
    "duration": 394,
    "start_time": "2022-12-28T20:40:38.490Z"
   },
   {
    "duration": 148,
    "start_time": "2022-12-28T20:40:38.887Z"
   },
   {
    "duration": 173,
    "start_time": "2022-12-28T20:40:39.037Z"
   },
   {
    "duration": 200,
    "start_time": "2022-12-28T20:40:39.211Z"
   },
   {
    "duration": 156,
    "start_time": "2022-12-28T20:40:39.413Z"
   },
   {
    "duration": 10,
    "start_time": "2022-12-28T20:40:39.571Z"
   },
   {
    "duration": 6,
    "start_time": "2022-12-28T20:40:39.583Z"
   },
   {
    "duration": 8,
    "start_time": "2022-12-28T20:40:39.591Z"
   },
   {
    "duration": 5,
    "start_time": "2022-12-28T20:40:39.601Z"
   }
  ],
  "kernelspec": {
   "display_name": "Python 3 (ipykernel)",
   "language": "python",
   "name": "python3"
  },
  "language_info": {
   "codemirror_mode": {
    "name": "ipython",
    "version": 3
   },
   "file_extension": ".py",
   "mimetype": "text/x-python",
   "name": "python",
   "nbconvert_exporter": "python",
   "pygments_lexer": "ipython3",
   "version": "3.9.13"
  },
  "toc": {
   "base_numbering": 1,
   "nav_menu": {},
   "number_sections": true,
   "sideBar": true,
   "skip_h1_title": true,
   "title_cell": "Table of Contents",
   "title_sidebar": "Contents",
   "toc_cell": false,
   "toc_position": {
    "height": "calc(100% - 180px)",
    "left": "10px",
    "top": "150px",
    "width": "269px"
   },
   "toc_section_display": true,
   "toc_window_display": true
  }
 },
 "nbformat": 4,
 "nbformat_minor": 2
}
